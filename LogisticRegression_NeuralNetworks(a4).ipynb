{
  "cells": [
    {
      "cell_type": "markdown",
      "metadata": {
        "id": "yY2zv2xKNF1w"
      },
      "source": [
        "<center>\n",
        "<h1>CSCI3151 - Foundations of Machine Learning - Fall 2024</h1>\n",
        "<h2>Assignment 4</h2>\n",
        "</center>\n",
        "\n",
        "\n",
        "**Due on: <s>25 October</s> 27 October at 23:59 ADT**\n",
        "\n",
        "- **Grade Period**: There is a 5-hour grace period after the deadline to allow for last minute technical issues.\n",
        "- **Late Submissions:** You can submit the assignment up to 2 days late with a 20% penalty applied to your grade.\n",
        "- **AI tools:** The policy on using AI tools is as discussed in class.\n",
        "- **Working in Groups:** You may do this assignment alone or in groups of 2 or 3. If working in groups, only one person must submit it, and the assignment must clearly indicate the names and B-numbers and names of all group members.\n",
        "- **Marking:** Marking notes (e.g. point values) will be added to this assignment next week, along with indication if we consider one or two of the questions as being somewhat harder.\n",
        "\n",
        "[Assignment Submission Instructions as given on BrightSpace](https://dal.brightspace.com/d2l/le/content/342520/viewContent/4477501/View)"
      ]
    },
    {
      "cell_type": "markdown",
      "metadata": {
        "id": "_BcShUtkYZTw"
      },
      "source": [
        "# Preamble\n",
        "\n",
        "In this assignment you'll be working with logistic regression and neural networks (MLP). The test cases for most of the questions aren't designed to be comprehensive, they are just a guide. If you have more subtle errors, the tests cases may not find them.\n",
        "\n",
        "1. This assignment is not hard but it requires careful coding, ensure you give this the time it needs.\n",
        "2. Not only does it take time to actually write the code but a lot of this assignment will require you to run your code for a while. Especially Q3 and Q4, may take about 10 - 20 mins to actually train all your models.\n",
        "3. It's very easy to make subtle bugs, ensure you are careful in every line of python code you write.\n",
        "4. Q1,2 are related and Q3,4 are related. If you're stuck on Q1 or Q2, you can continue to do Q3 and Q4 while you think about your problem."
      ]
    },
    {
      "cell_type": "code",
      "execution_count": 1,
      "metadata": {
        "id": "ZwZi2sXnbEVg"
      },
      "outputs": [],
      "source": [
        "import numpy as np"
      ]
    },
    {
      "cell_type": "markdown",
      "metadata": {
        "id": "Lzs0FBJDY2Gi"
      },
      "source": [
        "# 1. Building a Logistic Regression Model\n",
        "\n",
        "Remember that a logistic regression model is linear regression where we say everything to the right of $0$ is one class and everything to the left is another, and where we use a sigmoid function (to bound the output appropriately, and provide a smooth, differentiable loss).\n",
        "\n",
        "Our classification is going to be done using the following equations:\n",
        "\n",
        "$$\n",
        "z = \\mathbf{w}^\\top \\mathbf{x} + b \\\\\n",
        "y = \\sigma(z)\n",
        "$$\n",
        "\n",
        "Where the function $\\sigma$ is defined as:\n",
        "\n",
        "$$\n",
        "\\sigma(z) = \\frac{1}{1 + e^{-z}}\n",
        "$$"
      ]
    },
    {
      "cell_type": "markdown",
      "metadata": {
        "id": "gHMrYpOvaZVt"
      },
      "source": [
        "## 1.1 Sigmoid Function\n",
        "\n",
        "Remember, we want to be efficient with our operations. Your function should take in a `numpy.array` and apply this sigmoid function to all of those elements."
      ]
    },
    {
      "cell_type": "code",
      "execution_count": 2,
      "metadata": {
        "id": "Ugyakq4saYQj"
      },
      "outputs": [],
      "source": [
        "# GRADED FUNCTION\n",
        "def sigmoid(z: np.array) -> np.array:\n",
        "    '''\n",
        "    Given an array of real numbers, apply the sigmoid function element-wise.\n",
        "    Return:\n",
        "        A numpy array of the same shape as z.\n",
        "    '''\n",
        "\n",
        "    return 1 / (1 + np.exp(-z))\n"
      ]
    },
    {
      "cell_type": "markdown",
      "metadata": {
        "id": "TR6BrWuaa6lE"
      },
      "source": [
        "### 1.1 Test Cases"
      ]
    },
    {
      "cell_type": "code",
      "execution_count": 3,
      "metadata": {
        "id": "Uj8qCtyva9k8"
      },
      "outputs": [
        {
          "data": {
            "text/plain": [
              "'All tests passed'"
            ]
          },
          "execution_count": 3,
          "metadata": {},
          "output_type": "execute_result"
        }
      ],
      "source": [
        "# This is a simple test, not intended to be comprehensive\n",
        "\n",
        "x = np.array([0, 1, 2, -1, -2, 0.001, 0.01, 3.1415, -3.1415, 100, -100])\n",
        "y = sigmoid(x)\n",
        "t = np.array([5.00000000e-01, 7.31058579e-01, 8.80797078e-01, 2.68941421e-01,\n",
        "       1.19202922e-01, 5.00250000e-01, 5.02499979e-01, 9.58572489e-01,\n",
        "       4.14275114e-02, 1.00000000e+00, 3.72007598e-44])\n",
        "\n",
        "assert np.allclose(y, t, atol=1e-4), \"sigmoid(x) didn't work for all numbers in x.\"\n",
        "\n",
        "\"All tests passed\""
      ]
    },
    {
      "cell_type": "markdown",
      "metadata": {
        "id": "OIM9AB0idUDs"
      },
      "source": [
        "## 1.2 Forward Direction\n",
        "\n",
        "We now actually have everything we would need to compute the foward pass of our logistic regression model. Note that this function will perform a matrix multipication to compute the value for each of the individual units."
      ]
    },
    {
      "cell_type": "code",
      "execution_count": 4,
      "metadata": {
        "id": "ewr0u87wdiQ1"
      },
      "outputs": [],
      "source": [
        "# GRADED FUNCTION\n",
        "def log_bin_forward(X: np.array, w: np.array, b: float) -> np.array:\n",
        "    '''\n",
        "    logistic regression, binary classification, forward pass.\n",
        "    Parameters:\n",
        "        X: (N, D) numpy array\n",
        "        w: (D, 1) numpy array\n",
        "        b: float\n",
        "    Return:\n",
        "        y: (N, 1) numpy array\n",
        "    '''\n",
        "\n",
        "    z = X.dot(w) + b\n",
        "    y = sigmoid(z)\n",
        "    \n",
        "    return y"
      ]
    },
    {
      "cell_type": "markdown",
      "metadata": {
        "id": "89BcPPYSihFr"
      },
      "source": [
        "### 1.2 Test cases"
      ]
    },
    {
      "cell_type": "code",
      "execution_count": 5,
      "metadata": {
        "id": "itZF8JZugUyf"
      },
      "outputs": [
        {
          "data": {
            "text/plain": [
              "'All Tests Passed'"
            ]
          },
          "execution_count": 5,
          "metadata": {},
          "output_type": "execute_result"
        }
      ],
      "source": [
        "# These are simple tests, not intended to be comprehensive\n",
        "\n",
        "X = np.array([[1, 2], [3, 4], [5, 6]])\n",
        "w = np.array([[0.5], [-0.5]])\n",
        "b = 0.0\n",
        "t = np.array([[0.37754067], [0.37754067], [0.37754067]])\n",
        "y = log_bin_forward(X, w, b)\n",
        "assert np.allclose(y, t, atol=1e-4)\n",
        "\n",
        "X = np.array([[1, 2], [3, 4], [5, 6]])\n",
        "w = np.array([[0.0], [0.0]])\n",
        "b = 0.0\n",
        "t = np.array([[0.5], [0.5], [0.5]])\n",
        "y = log_bin_forward(X, w, b)\n",
        "assert np.allclose(y, t, atol=1e-4)\n",
        "\n",
        "X = np.array([[1, 1], [2, 2]])\n",
        "w = np.array([[10], [10]])\n",
        "b = 5.0\n",
        "t = np.array([[1.], [1.]])\n",
        "y = log_bin_forward(X, w, b)\n",
        "assert np.allclose(y, t, atol=1e-4)\n",
        "\n",
        "X = np.array([[1, 1], [2, 2]])\n",
        "w = np.array([[-10], [-10]])\n",
        "b = -5.0\n",
        "t = np.array([[1.38879439e-11], [2.86251858e-20]])\n",
        "y = log_bin_forward(X, w, b)\n",
        "assert np.allclose(y, t, atol=1e-4)\n",
        "\n",
        "X = np.array([[0, 0], [0, 0]])\n",
        "w = np.array([[0.0], [0.0]])\n",
        "b = 1.0\n",
        "t = np.array([[0.73105858], [0.73105858]])\n",
        "y = log_bin_forward(X, w, b)\n",
        "assert np.allclose(y, t, atol=1e-4)\n",
        "\n",
        "\"All Tests Passed\""
      ]
    },
    {
      "cell_type": "markdown",
      "metadata": {
        "id": "P4Z--aoditMp"
      },
      "source": [
        "## 1.3 Loss Function\n",
        "\n",
        "Before we can perform backpropagation for a given set of inputs and weights, we need to decide on a loss function that this gradient will correspond to. Usually, we use cross-entropy loss when performing logistic regression, so let's use that here.\n",
        "\n",
        "$$\n",
        "L_{CE}(y, t) = -t \\ln (y) - (1-t) \\ln(1-y)\n",
        "$$"
      ]
    },
    {
      "cell_type": "code",
      "execution_count": 6,
      "metadata": {
        "id": "5zvI6DNSjG2L"
      },
      "outputs": [],
      "source": [
        "# GRADED FUNCTION\n",
        "def cross_entropy_loss(y: np.array, t: np.array) -> float:\n",
        "    \"\"\"\n",
        "    Compute the cross-entropy loss. Note that since you are provided arrays\n",
        "    rather than a single points, this is actually the cost function.\n",
        "\n",
        "    Parameters:\n",
        "        y: (N, 1) numpy array of predicted probabilities (values between 0 and 1).\n",
        "        t: (N, 1) numpy array of true labels (0 or 1).\n",
        "\n",
        "    Returns:\n",
        "        loss: Cross-entropy loss as a float.\n",
        "    \"\"\"\n",
        "    # We do this to ensure we never hit log(0)\n",
        "    \n",
        "    epsilon = 1e-15\n",
        "    y = np.clip(y, epsilon, 1 - epsilon)\n",
        "\n",
        "    # your code here\n",
        "    loss = np.mean(-t * np.log(y) - (1-t) * np.log(1-y))\n",
        "    \n",
        "\n",
        "    return loss"
      ]
    },
    {
      "cell_type": "markdown",
      "metadata": {
        "id": "pL6ka1_t2ePI"
      },
      "source": [
        "### 1.3 Test Cases"
      ]
    },
    {
      "cell_type": "code",
      "execution_count": 7,
      "metadata": {
        "id": "fncHTAUO2hgN"
      },
      "outputs": [
        {
          "data": {
            "text/plain": [
              "'All Tests Passed'"
            ]
          },
          "execution_count": 7,
          "metadata": {},
          "output_type": "execute_result"
        }
      ],
      "source": [
        "t = np.array([0, 1, 0, 1])\n",
        "y = np.array([0.1, 0.9, 0.2, 0.8])\n",
        "loss = cross_entropy_loss(y, t)\n",
        "exp = 0.164252033486018\n",
        "assert np.isclose(loss, exp, atol=10e-4)\n",
        "\n",
        "t = np.array([0,0,0,0,0,1,1,1,1,1])\n",
        "y = np.array([0.1, 0.2, 0.3, 0.4, 0.5, 0.6, 0.7, 0.8, 0.9, 1.0])\n",
        "loss = cross_entropy_loss(y, t)\n",
        "exp = 0.3085156449913465\n",
        "assert np.isclose(loss, exp, atol=10e-4)\n",
        "\n",
        "t = np.array([1, 1,1,1,1,1,1,1,1,1,1])\n",
        "y = np.array([0, 0.1, 0.2, 0.3, 0.4, 0.5, 0.6, 0.7, 0.8, 0.9, 1.0])\n",
        "loss = cross_entropy_loss(y, t)\n",
        "exp = 3.8600195228886935\n",
        "assert np.isclose(loss, exp, atol=10e-4)\n",
        "\n",
        "t = np.array([0,0,0,0,0,0,0,0,0,0,0])\n",
        "y = np.array([0, 0.1, 0.2, 0.3, 0.4, 0.5, 0.6, 0.7, 0.8, 0.9, 1.0])\n",
        "loss = cross_entropy_loss(y, t)\n",
        "exp = 3.8600922135641658\n",
        "assert np.isclose(loss, exp, atol=10e-4)\n",
        "\n",
        "\"All Tests Passed\""
      ]
    },
    {
      "cell_type": "markdown",
      "metadata": {
        "id": "1_22Z1KEDfO8"
      },
      "source": [
        "## 1.4 Gradients\n",
        "\n",
        "Now we have everything we need to find the gradient. To calculate the gradient, we need the derivative of the loss with respect to a particular weight parameter. We'll give you the final answer here but we recommend you try to do the derivation yourself.\n",
        "\n",
        "$$\n",
        "\\frac{\\partial L_{CE}}{\\partial w_j} = (y - t) \\cdot x_j\n",
        "$$"
      ]
    },
    {
      "cell_type": "code",
      "execution_count": 8,
      "metadata": {
        "id": "f-AJHqBUIVGi"
      },
      "outputs": [],
      "source": [
        "# GRADED FUNCTION\n",
        "def log_bin_backward(X: np.array, y: np.array, t: np.array, w: np.array, b: float) -> np.array:\n",
        "    '''\n",
        "    logistic regression, binary classification, backprop.\n",
        "    Parameters:\n",
        "        X: (N, D) numpy array\n",
        "        y: (N, 1) numpy array\n",
        "        t: (N, 1) numpy array\n",
        "        w: (D, 1) numpy array\n",
        "        b: float\n",
        "    Return:\n",
        "        dw: (D, 1) numpy array\n",
        "        db: float\n",
        "    '''\n",
        "    N = X.shape[0]\n",
        "\n",
        "    dw = (-1/N) * np.dot(X.T, (y - t))\n",
        "    db = (-1/N) * np.sum(y-t)\n",
        "\n",
        "    return dw, db"
      ]
    },
    {
      "cell_type": "markdown",
      "metadata": {
        "id": "paEoTxrqOBV2"
      },
      "source": [
        "### 1.4 Test Cases"
      ]
    },
    {
      "cell_type": "code",
      "execution_count": 9,
      "metadata": {
        "id": "ISQLveGZN_iy"
      },
      "outputs": [
        {
          "data": {
            "text/plain": [
              "'All Tests Passed'"
            ]
          },
          "execution_count": 9,
          "metadata": {},
          "output_type": "execute_result"
        }
      ],
      "source": [
        "X = np.array(\n",
        "    [\n",
        "        [1.26658442, -1.02050719],\n",
        "        [-0.98437831, 0.27607749],\n",
        "        [-1.32136078, -1.26195146],\n",
        "        [0.49447882, 1.38227184],\n",
        "        [-1.33470097, -2.00844646],\n",
        "    ]\n",
        ")\n",
        "t = np.array([[1], [0], [0], [1], [0]])\n",
        "\n",
        "y = np.array([[0.81729993], [0.02683276], [0.00764113], [0.58255813], [0.00593826]])\n",
        "w = np.array([[2.43169314], [0.29659293]])\n",
        "b = -1.279109137189912\n",
        "dw_exp = np.array([[0.09645146], [0.08094658]])\n",
        "db_exp = 0.11194595724150591\n",
        "\n",
        "dw, db = log_bin_backward(X, y, t, w, b)\n",
        "\n",
        "assert np.allclose(dw, dw_exp, atol=1e-4)\n",
        "assert np.isclose(db, db_exp, atol=1e-4)\n",
        "\n",
        "y = np.array([[0.85441441], [0.02853752], [0.0062232], [0.69070388], [0.00435393]])\n",
        "w = np.array([[2.60359904], [0.43450242]])\n",
        "b = -1.0846129735508365\n",
        "dw_exp = np.array([[0.07589256], [0.05753592]])\n",
        "db_exp = 0.0831534116965434\n",
        "\n",
        "dw, db = log_bin_backward(X, y, t, w, b)\n",
        "\n",
        "assert np.allclose(dw, dw_exp, atol=1e-4)\n",
        "assert np.isclose(db, db_exp, atol=1e-4)\n",
        "\n",
        "\n",
        "y = np.array([[0.87969946], [0.02963325], [0.00530132], [0.76073603], [0.00343621]])\n",
        "w = np.array([[2.7415787], [0.53434795]])\n",
        "b = -0.9375477440982641\n",
        "dw_exp = np.array([[0.06228867], [0.04267413]])\n",
        "db_exp = 0.0642387455552448\n",
        "\n",
        "dw, db = log_bin_backward(X, y, t, w, b)\n",
        "\n",
        "assert np.allclose(dw, dw_exp, atol=1e-4)\n",
        "assert np.isclose(db, db_exp, atol=1e-4)\n",
        "\n",
        "\n",
        "y = np.array([[0.89786906], [0.03030304], [0.00464924], [0.80744823], [0.00284379]])\n",
        "w = np.array([[2.856671], [0.60987594]])\n",
        "b = -0.8220637356800282\n",
        "dw_exp = np.array([[0.05286777], [0.03302925]])\n",
        "db_exp = 0.051377327219592296\n",
        "\n",
        "dw, db = log_bin_backward(X, y, t, w, b)\n",
        "\n",
        "assert np.allclose(dw, dw_exp, atol=1e-4)\n",
        "assert np.isclose(db, db_exp, atol=1e-4)\n",
        "\n",
        "\"All Tests Passed\""
      ]
    },
    {
      "cell_type": "markdown",
      "metadata": {
        "id": "4EirX4NwKyyl"
      },
      "source": [
        "## 1.5 Combining Everything\n",
        "\n",
        "We're now going to combine everything to create a logistic regression model! Remember to use the functions you just wrote, don't just rewrite the details."
      ]
    },
    {
      "cell_type": "code",
      "execution_count": 10,
      "metadata": {
        "id": "6maC4ZR_K6d9"
      },
      "outputs": [],
      "source": [
        "# GRADED CLASS\n",
        "class LogisticRegression():\n",
        "    def __init__(self):\n",
        "        self.w = None\n",
        "        self.b = None\n",
        "\n",
        "    def fit(self, X: np.array, t: np.array, lr: float, epochs: int):\n",
        "        # Initialize w and b to random weights\n",
        "        # I recommend using np.random.randn\n",
        "\n",
        "        N = X.shape[1]\n",
        "\n",
        "        self.w = np.random.randn(N,1)\n",
        "        self.b = 0.0\n",
        "\n",
        "        t = t.reshape(-1, 1)\n",
        "        loss_array = []\n",
        "\n",
        "        for i in range(epochs):\n",
        "            # Forward\n",
        "            y = log_bin_forward(X, self.w, self.b)    \n",
        "            \n",
        "            loss = cross_entropy_loss(y, t)\n",
        "            \n",
        "            loss_array.append(loss)\n",
        "\n",
        "            # Backward\n",
        "            dw, db = log_bin_backward(X, y, t, self.w, self.b)\n",
        "\n",
        "            # Update\n",
        "            self.w += lr * dw\n",
        "            self.b += lr * db\n",
        "\n",
        "        return loss_array\n",
        "\n",
        "    def predict(self, X: np.array) -> np.array:\n",
        "        \n",
        "        y = log_bin_forward(X, self.w, self.b)\n",
        "        \n",
        "        return y\n",
        "        \n"
      ]
    },
    {
      "cell_type": "markdown",
      "metadata": {
        "id": "J_NZ1QA0WbFG"
      },
      "source": [
        "### 1.5 Test Cases\n",
        "\n",
        "Here we use the model you just created to see how well it performs on a given dataset."
      ]
    },
    {
      "cell_type": "code",
      "execution_count": 11,
      "metadata": {
        "id": "cvb6eA97W6oy"
      },
      "outputs": [],
      "source": [
        "def graph_points(X, y, label=\"Class\"):\n",
        "    plt.figure(figsize=(8, 6))\n",
        "    plt.scatter(X[y.flatten() == 0][:, 0], X[y.flatten() == 0][:, 1], color='red', label=\"Class 1\")\n",
        "    plt.scatter(X[y.flatten() == 1][:, 0], X[y.flatten() == 1][:, 1], color='blue', label=\"Class 2\")\n",
        "    plt.title(f'{label}')\n",
        "    plt.xlabel('Feature 1')\n",
        "    plt.ylabel('Feature 2')\n",
        "    plt.legend()\n",
        "    plt.show()\n",
        "\n",
        "def graph_loss(loss_array):\n",
        "    plt.figure(figsize=(8, 6))\n",
        "    plt.plot(loss_array, label='Loss over epochs', color='green')\n",
        "    plt.title('Loss Curve')\n",
        "    plt.xlabel('Epochs')\n",
        "    plt.ylabel('Loss')\n",
        "    plt.legend()\n",
        "    plt.grid(True)\n",
        "    plt.show()\n"
      ]
    },
    {
      "cell_type": "code",
      "execution_count": 12,
      "metadata": {
        "id": "jIqKttr7MJr5"
      },
      "outputs": [
        {
          "data": {
            "image/png": "[encoded data removed]",
            "text/plain": [
              "<Figure size 800x600 with 1 Axes>"
            ]
          },
          "metadata": {},
          "output_type": "display_data"
        }
      ],
      "source": [
        "import numpy as np\n",
        "import matplotlib.pyplot as plt\n",
        "from sklearn.datasets import make_classification\n",
        "from sklearn.metrics import accuracy_score\n",
        "\n",
        "X, t = make_classification(n_samples=200, n_features=2, n_classes=2, n_informative=2, n_redundant=0, random_state=42)\n",
        "t = t.reshape(-1, 1)\n",
        "\n",
        "graph_points(X,t, \"Generated Points\")"
      ]
    },
    {
      "cell_type": "code",
      "execution_count": 13,
      "metadata": {
        "id": "lOXjnJ6fMmAZ"
      },
      "outputs": [
        {
          "data": {
            "text/plain": [
              "0.86"
            ]
          },
          "execution_count": 13,
          "metadata": {},
          "output_type": "execute_result"
        }
      ],
      "source": [
        "model = LogisticRegression()\n",
        "epochs = 100\n",
        "learning_rate = 0.1\n",
        "\n",
        "# Fit the model\n",
        "loss_array = model.fit(X, t, learning_rate, epochs)\n",
        "\n",
        "y_pred = model.predict(X) >= 0.5  # Convert probabilities to binary predictions\n",
        "accuracy = accuracy_score(t, y_pred)\n",
        "accuracy"
      ]
    },
    {
      "cell_type": "code",
      "execution_count": 14,
      "metadata": {
        "id": "LezBGWzFMtNb"
      },
      "outputs": [
        {
          "data": {
            "image/png": "[encoded data removed]",
            "text/plain": [
              "<Figure size 800x600 with 1 Axes>"
            ]
          },
          "metadata": {},
          "output_type": "display_data"
        }
      ],
      "source": [
        "# Plot the loss over epochs\n",
        "graph_loss(loss_array)"
      ]
    },
    {
      "cell_type": "markdown",
      "metadata": {
        "id": "mkigge4-UeQd"
      },
      "source": [
        "## 1.6 Testing the Model\n",
        "\n",
        "You now have a logistic regression model. Demonstate that you know it's capabilities and limitations in the following way:\n",
        "\n",
        "1. Create a dataset for which logistic regression **works well**.\n",
        "2. Create a dataset for which logistic regression **doesn't work well**.\n",
        "\n",
        "Explain why you see the behaviour for each of those datasets. You should use graphs to make your case (plotted points, and loss graph).\n",
        "\n",
        "Constraints:\n",
        "1. At least 100 datapoint and not more than 300 points\n",
        "2. Must be 2D points that can be visuallized on a graph.\n",
        "3. A human should be able to classify the points (you can't just make the points overlap or very noisy)."
      ]
    },
    {
      "cell_type": "code",
      "execution_count": 15,
      "metadata": {
        "id": "k08QODvgVeJ0"
      },
      "outputs": [
        {
          "data": {
            "image/png": "[encoded data removed]",
            "text/plain": [
              "<Figure size 800x600 with 1 Axes>"
            ]
          },
          "metadata": {},
          "output_type": "display_data"
        },
        {
          "name": "stdout",
          "output_type": "stream",
          "text": [
            "0.9966666666666667\n"
          ]
        },
        {
          "data": {
            "image/png": "[encoded data removed]",
            "text/plain": [
              "<Figure size 800x600 with 1 Axes>"
            ]
          },
          "metadata": {},
          "output_type": "display_data"
        },
        {
          "data": {
            "text/plain": [
              "0.8333333333333334"
            ]
          },
          "execution_count": 15,
          "metadata": {},
          "output_type": "execute_result"
        }
      ],
      "source": [
        "# Your code here\n",
        "\n",
        "X_good, y_good = make_classification(n_samples=300, \n",
        "                                     n_features=2, \n",
        "                                     n_classes=2, \n",
        "                                     n_informative=2, \n",
        "                                     n_redundant=0, \n",
        "                                     n_clusters_per_class=2,\n",
        "                                     class_sep=2,   # Increase class separation\n",
        "                                     flip_y=0,      # No label noise\n",
        "                                     random_state=42)\n",
        "y_good = y_good.reshape(-1, 1)\n",
        "\n",
        "graph_points(X_good,y_good, \"Generated Points\")\n",
        "\n",
        "loss_array = model.fit(X_good, y_good, learning_rate, epochs)\n",
        "\n",
        "y_pred = model.predict(X_good) >= 0.5  # Convert probabilities to binary predictions\n",
        "accuracy = accuracy_score(y_good, y_pred)\n",
        "print(accuracy)\n",
        "\n",
        "\n",
        "\n",
        "\n",
        "X_bad, y_bad = make_classification(n_samples=300, \n",
        "                                              n_features=2, \n",
        "                                              n_classes=2, \n",
        "                                              n_informative=2, \n",
        "                                              n_redundant=0, \n",
        "                                              n_clusters_per_class=2,  # Use two clusters\n",
        "                                              class_sep=1,  # Moderate class separation\n",
        "                                              flip_y=0.2,  # Slightly introduce some label noise\n",
        "                                              random_state=42)\n",
        "\n",
        "y_bad = y_bad.reshape(-1, 1)\n",
        "\n",
        "graph_points(X_bad,y_bad, \"Generated Points\")\n",
        "\n",
        "loss_array = model.fit(X_bad, y_bad, learning_rate, epochs)\n",
        "\n",
        "y_pred = model.predict(X_bad) >= 0.5  # Convert probabilities to binary predictions\n",
        "accuracy = accuracy_score(y_bad, y_pred)\n",
        "accuracy\n"
      ]
    },
    {
      "cell_type": "markdown",
      "metadata": {
        "id": "sNgf8_f7Vfgw"
      },
      "source": [
        "### 1.6 Written Answer\n",
        "\n",
        "Type your answer here\n",
        "\n",
        "Disclaimer: I used chatGPT to show parameters of make_classification.\n",
        "\n",
        "Whether logistic regressiond does good or bad depends on a variety of factors (noise, overlapping), but the one I'm going to be focusing on is linear seperability. The second data is still a decent split, however because drawing a straight line between two classes is harder, it tends to perform worse."
      ]
    },
    {
      "cell_type": "markdown",
      "metadata": {
        "id": "vOGlxAKha9HK"
      },
      "source": [
        "# 2. Neual Networks\n",
        "\n",
        "Now that you know how to build a logistic regression model, you can extend this to be a neural network without a lot of work. Now we will have mutliple layers, allowing us to build more complex models.\n",
        "\n"
      ]
    },
    {
      "cell_type": "markdown",
      "metadata": {
        "id": "3pky494Zt5vN"
      },
      "source": [
        "## 2.1 Activation Functions\n",
        "\n",
        "Create activation functions and their derivatives. Remember to vectorize your functions."
      ]
    },
    {
      "cell_type": "code",
      "execution_count": 16,
      "metadata": {
        "id": "Jm8x3bzFqyd5"
      },
      "outputs": [],
      "source": [
        "# GRADED SECTION\n",
        "\n",
        "def sigmoid(x):\n",
        "    return 1 / (1 + np.exp(-x))\n",
        "\n",
        "def sigmoid_derivative(x):\n",
        "    return sigmoid(x) * (1 - sigmoid((x)))\n",
        "\n",
        "def softmax(x):\n",
        "    exp_x = np.exp(x - np.max(x))\n",
        "    return exp_x / np.sum(exp_x)\n",
        "\n",
        "def softmax_derivative(x):\n",
        "    return softmax(x) * (1 - softmax(x))\n",
        "\n",
        "def relu(x):\n",
        "    return np.maximum(0, x)\n",
        "\n",
        "def relu_derivative(x):\n",
        "    if (x > 0):\n",
        "        return 1\n",
        "    else:\n",
        "        return 0\n",
        "\n",
        "def tanh(x):\n",
        "    return np.tanh(x)\n",
        "\n",
        "def tanh_derivative(x):\n",
        "    return 1 - np.tanh(x)**2\n",
        "\n",
        "activation_functions = {\n",
        "    \"sigmoid\": (sigmoid, sigmoid_derivative),\n",
        "    \"softmax\": (softmax, softmax_derivative),\n",
        "    \"relu\": (relu, relu_derivative),\n",
        "    \"tanh\": (tanh, tanh_derivative)\n",
        "}"
      ]
    },
    {
      "cell_type": "markdown",
      "metadata": {
        "id": "dOXrpci0uB-L"
      },
      "source": [
        "## 2.2 Building the NN"
      ]
    },
    {
      "cell_type": "markdown",
      "metadata": {
        "id": "xA3413xacrKQ"
      },
      "source": [
        "We want to be able to create neural network in the following way:\n",
        "\n",
        "```python\n",
        "layers = [\n",
        "    Layer(4, \"relu\"),\n",
        "    Layer(4, \"sigmod\"),\n",
        "    Layer(4, \"relu\"),\n",
        "    Layer(2, \"softmax\")\n",
        "]\n",
        "\n",
        "model = NeuralNet(layers)\n",
        "epochs = 1000\n",
        "learning_rate = 0.1\n",
        "loss_array = model.fit(X, t, epochs, learning_rate)\n",
        "```\n",
        "\n",
        "Tips:\n",
        "\n",
        "1. Keep track of the shape of all your vectors and matrices.\n",
        "2. Watch how the model does over time, do you expect this behaviour?\n",
        "3. It may be useful to graph stuff like `loss_array[300:]` since the inital loss may be to high to see details of the later parts of training.\n",
        "\n",
        "> NOTE: I've provided a bit of structure to some of the methods in the class but if you want to do it differently, that is okay. The structure is only there to assist you, not to be in your way."
      ]
    },
    {
      "cell_type": "code",
      "execution_count": 17,
      "metadata": {
        "id": "RtUZ9Mo6s-DE"
      },
      "outputs": [],
      "source": [
        "class Layer:\n",
        "    def __init__(self, hidden_nodes: int, activation: str) -> None:\n",
        "        self.nodes = hidden_nodes\n",
        "        self.act, self.der = activation_functions[activation]"
      ]
    },
    {
      "cell_type": "code",
      "execution_count": 18,
      "metadata": {
        "id": "Eza0Jxi_q3Qv"
      },
      "outputs": [],
      "source": [
        "class NeuralNet:\n",
        "    def __init__(self, layers: list[Layer]) -> None:\n",
        "        self.layers = layers\n",
        "        self.weights = []\n",
        "        self.biases = []\n",
        "\n",
        "    def init_weights(self, X):\n",
        "        \"\"\"\n",
        "        Initialize weights and biases for each layer based on input data.\n",
        "\n",
        "        Parameters:\n",
        "            X: (N, D) numpy array of input data\n",
        "        \"\"\"\n",
        "\n",
        "        # In between each layer you have a weight matrix and a bias vector.\n",
        "\n",
        "        # you should initialize the weights using np.random.randn and initalize\n",
        "        # the biases to either 0 or randn. I've provided a bit of structure to\n",
        "        # help you out, but if you want to do this differently, you can rewrite\n",
        "        # the whole method, you don't have to use this structure.\n",
        "\n",
        "        numFeatures = X.shape[1]\n",
        "\n",
        "        self.weights.append(np.random.uniform(-0.5, 0.5, (numFeatures, self.layers[0].nodes)))\n",
        "        self.biases.append(np.zeros(self.layers[0].nodes))\n",
        "\n",
        "        for i in range(1, len(self.layers)):\n",
        "            self.weights.append(np.random.uniform(-0.5, 0.5, (self.layers[i-1].nodes, self.layers[i].nodes)))\n",
        "            self.biases.append(self.layers[i].nodes)\n",
        "\n",
        "    def one_hot_encode(self, t, num_classes):\n",
        "        \"\"\"\n",
        "        One-hot encode the target variable t.\n",
        "\n",
        "        Parameters:\n",
        "            t: (N,) numpy array of class labels\n",
        "            num_classes: the number of unique classes\n",
        "\n",
        "        Returns:\n",
        "            one_hot: (N, num_classes) numpy array where each row is one-hot encoded\n",
        "        \"\"\"\n",
        "        one_hot = np.zeros((t.shape[0], num_classes))\n",
        "        one_hot[np.arange(t.shape[0]), t] = 1\n",
        "        return one_hot\n",
        "\n",
        "    def forward_pass(self, X):\n",
        "        \"\"\"\n",
        "        Perform a forward pass through the network.\n",
        "\n",
        "        Parameters:\n",
        "            X: (N, D) numpy array of input data\n",
        "\n",
        "        Returns:\n",
        "            y: (N, M) numpy array of network output after the final layer\n",
        "        \"\"\"\n",
        "        a = X\n",
        "        self.activations = [a]\n",
        "        self.logits = []\n",
        "\n",
        "        for layer, W, b in zip(self.layers, self.weights, self.biases):\n",
        "\n",
        "            z = np.dot(a, W) + b\n",
        "            a = layer.act(z)\n",
        "\n",
        "            self.logits.append(z)\n",
        "            self.activations.append(a)\n",
        "\n",
        "        self.y = a\n",
        "        return self.y\n",
        "\n",
        "    def backward_pass(self, X, t):\n",
        "        \"\"\"\n",
        "        Perform a backward pass through the network to compute gradients.\n",
        "\n",
        "        Parameters:\n",
        "            X: (N, D) numpy array of input data\n",
        "            t: (N, num_classes) numpy array of one-hot encoded target labels\n",
        "\n",
        "        Returns:\n",
        "            w_grads: list of weight gradients for each layer\n",
        "            b_grads: list of bias gradients for each layer\n",
        "        \"\"\"\n",
        "        N = X.shape[0]\n",
        "\n",
        "        delta = self.activations[-1] - t\n",
        "\n",
        "        w_grads = []\n",
        "        b_grads = []\n",
        "\n",
        "        for i in reversed(range(len(self.layers))):\n",
        "            layer = self.layers[i]\n",
        "            z = self.logits[i]\n",
        "            a = self.activations[i]\n",
        "\n",
        "            delta = delta * layer.der(z)\n",
        "\n",
        "            dw = np.dot(a.T, delta) / N \n",
        "            db = np.mean(delta)\n",
        "\n",
        "            w_grads.insert(0, dw)\n",
        "            b_grads.insert(0, db)\n",
        "\n",
        "            if i > 0:\n",
        "                # if not first layer, propagate error\n",
        "                W = self.weights[i]\n",
        "                delta = np.dot(delta, W.T)\n",
        "\n",
        "        return w_grads, b_grads\n",
        "\n",
        "    def update_weights(self, w_grads, b_grads, learning_rate):\n",
        "        \"\"\"\n",
        "        Update the weights and biases of the network using the computed gradients.\n",
        "\n",
        "        Parameters:\n",
        "            w_grads: list of weight gradients for each layer\n",
        "            b_grads: list of bias gradients for each layer\n",
        "            learning_rate: float, the learning rate for gradient descent\n",
        "        \"\"\"\n",
        "        for i in range(len(self.layers)):\n",
        "            dW, db = w_grads[i], b_grads[i]\n",
        "\n",
        "            self.weights[i] -= learning_rate * dW\n",
        "            self.biases[i] -= learning_rate * db\n",
        "\n",
        "    def fit(self, X, t, epochs, learning_rate):\n",
        "        \"\"\"\n",
        "        Train the neural network on the given data.\n",
        "\n",
        "        Parameters:\n",
        "            X: (N, D) numpy array of input data\n",
        "            t: (N,) numpy array of target class labels\n",
        "            epochs: int, number of training epochs\n",
        "            learning_rate: float, the learning rate for gradient descent\n",
        "\n",
        "        Returns:\n",
        "            loss_array: list of loss values computed at each epoch\n",
        "        \"\"\"\n",
        "\n",
        "        loss_array = []\n",
        "        t = t.astype(int)  # ensure ints\n",
        "        t = t.reshape(-1)  # flatten for one-hot-encode function\n",
        "        num_classes = np.unique(t).size\n",
        "\n",
        "        # use function from above here.\n",
        "        t_one_hot = self.one_hot_encode(t, num_classes)\n",
        "\n",
        "        self.init_weights(X)\n",
        "\n",
        "        for _ in range(epochs):\n",
        "            # your code here (~3-5 lines)\n",
        "\n",
        "            y = self.forward_pass(X)\n",
        "            w_grads, b_grads = self.backward_pass(X, t_one_hot)\n",
        "            self.update_weights(w_grads, b_grads, learning_rate)\n",
        "\n",
        "            loss_array.append(cross_entropy_loss(y, t_one_hot))\n",
        "\n",
        "        return loss_array\n",
        "\n",
        "    def predict(self, X):\n",
        "        \"\"\"\n",
        "        Predict class labels for the given input data.\n",
        "\n",
        "        Parameters:\n",
        "            X: (N, D) numpy array of input data\n",
        "\n",
        "        Returns:\n",
        "            predictions: (N,) numpy array of predicted class labels\n",
        "        \"\"\"\n",
        "\n",
        "        y_pred = self.forward_pass(X)\n",
        "\n",
        "        # convert from one-hot back to classes\n",
        "        return np.argmax(y_pred, axis=1)\n"
      ]
    },
    {
      "cell_type": "markdown",
      "metadata": {
        "id": "n9LlzQLiuJ5h"
      },
      "source": [
        "## 2.3 Test your Model\n",
        "\n",
        "You should test your model against the datasets you used for logistic regression. See if you can create a NN that can classify the dataset that you couldn't classify using logistic regression. I also recommend trying an XOR dataset to actually see your model do cool things!"
      ]
    },
    {
      "cell_type": "code",
      "execution_count": 19,
      "metadata": {
        "id": "4aSz3Jh0VnOH"
      },
      "outputs": [],
      "source": [
        "# your code here\n",
        "\n",
        "# this section for dataset prep\n",
        "\n",
        "\n",
        "\n",
        "\n",
        "\n"
      ]
    },
    {
      "cell_type": "code",
      "execution_count": 20,
      "metadata": {
        "id": "nHfc7nbdYa8w"
      },
      "outputs": [],
      "source": [
        "# your code here\n",
        "\n",
        "# this section for NN training"
      ]
    },
    {
      "cell_type": "code",
      "execution_count": 21,
      "metadata": {
        "id": "4INJg54sh6VE"
      },
      "outputs": [],
      "source": [
        "# your code here\n",
        "\n",
        "\n",
        "\n",
        "# this section for NN testing"
      ]
    },
    {
      "cell_type": "code",
      "execution_count": null,
      "metadata": {},
      "outputs": [],
      "source": []
    },
    {
      "cell_type": "markdown",
      "metadata": {
        "id": "dYddky8EmHN2"
      },
      "source": [
        "# 3. Neural Network Experiments\n",
        "\n",
        "The rest of this assignment is going to be on the practical side of things. We'll be using the `keras` neural network to solve classification problems.\n",
        "\n",
        "In this question you will experiment with a neural network in the context of image classification, where a image can belong to one out of several possible categories. The main goal for you is to try different hyperparameters in a systematic manner so that you can propose a network configuration that is properly justified. You will experiment with the [MNIST digits](https://keras.io/api/datasets/mnist/), which can be loaded directly from Keras:\n",
        "\n",
        "```python\n",
        "from keras.datasets import mnist\n",
        "(X_train, y_train), (X_test, y_test) = mnist.load_data()\n",
        "```"
      ]
    },
    {
      "cell_type": "code",
      "execution_count": 25,
      "metadata": {
        "id": "92HSE35CmRKz"
      },
      "outputs": [
        {
          "name": "stdout",
          "output_type": "stream",
          "text": [
            "Downloading data from https://storage.googleapis.com/tensorflow/tf-keras-datasets/mnist.npz\n"
          ]
        },
        {
          "ename": "Exception",
          "evalue": "URL fetch failure on https://storage.googleapis.com/tensorflow/tf-keras-datasets/mnist.npz: None -- [SSL: CERTIFICATE_VERIFY_FAILED] certificate verify failed: unable to get local issuer certificate (_ssl.c:1000)",
          "output_type": "error",
          "traceback": [
            "\u001b[0;31m---------------------------------------------------------------------------\u001b[0m",
            "\u001b[0;31mSSLCertVerificationError\u001b[0m                  Traceback (most recent call last)",
            "File \u001b[0;32m/Library/Frameworks/Python.framework/Versions/3.12/lib/python3.12/urllib/request.py:1344\u001b[0m, in \u001b[0;36mAbstractHTTPHandler.do_open\u001b[0;34m(self, http_class, req, **http_conn_args)\u001b[0m\n\u001b[1;32m   1343\u001b[0m \u001b[38;5;28;01mtry\u001b[39;00m:\n\u001b[0;32m-> 1344\u001b[0m     \u001b[43mh\u001b[49m\u001b[38;5;241;43m.\u001b[39;49m\u001b[43mrequest\u001b[49m\u001b[43m(\u001b[49m\u001b[43mreq\u001b[49m\u001b[38;5;241;43m.\u001b[39;49m\u001b[43mget_method\u001b[49m\u001b[43m(\u001b[49m\u001b[43m)\u001b[49m\u001b[43m,\u001b[49m\u001b[43m \u001b[49m\u001b[43mreq\u001b[49m\u001b[38;5;241;43m.\u001b[39;49m\u001b[43mselector\u001b[49m\u001b[43m,\u001b[49m\u001b[43m \u001b[49m\u001b[43mreq\u001b[49m\u001b[38;5;241;43m.\u001b[39;49m\u001b[43mdata\u001b[49m\u001b[43m,\u001b[49m\u001b[43m \u001b[49m\u001b[43mheaders\u001b[49m\u001b[43m,\u001b[49m\n\u001b[1;32m   1345\u001b[0m \u001b[43m              \u001b[49m\u001b[43mencode_chunked\u001b[49m\u001b[38;5;241;43m=\u001b[39;49m\u001b[43mreq\u001b[49m\u001b[38;5;241;43m.\u001b[39;49m\u001b[43mhas_header\u001b[49m\u001b[43m(\u001b[49m\u001b[38;5;124;43m'\u001b[39;49m\u001b[38;5;124;43mTransfer-encoding\u001b[39;49m\u001b[38;5;124;43m'\u001b[39;49m\u001b[43m)\u001b[49m\u001b[43m)\u001b[49m\n\u001b[1;32m   1346\u001b[0m \u001b[38;5;28;01mexcept\u001b[39;00m \u001b[38;5;167;01mOSError\u001b[39;00m \u001b[38;5;28;01mas\u001b[39;00m err: \u001b[38;5;66;03m# timeout error\u001b[39;00m\n",
            "File \u001b[0;32m/Library/Frameworks/Python.framework/Versions/3.12/lib/python3.12/http/client.py:1336\u001b[0m, in \u001b[0;36mHTTPConnection.request\u001b[0;34m(self, method, url, body, headers, encode_chunked)\u001b[0m\n\u001b[1;32m   1335\u001b[0m \u001b[38;5;124;03m\"\"\"Send a complete request to the server.\"\"\"\u001b[39;00m\n\u001b[0;32m-> 1336\u001b[0m \u001b[38;5;28;43mself\u001b[39;49m\u001b[38;5;241;43m.\u001b[39;49m\u001b[43m_send_request\u001b[49m\u001b[43m(\u001b[49m\u001b[43mmethod\u001b[49m\u001b[43m,\u001b[49m\u001b[43m \u001b[49m\u001b[43murl\u001b[49m\u001b[43m,\u001b[49m\u001b[43m \u001b[49m\u001b[43mbody\u001b[49m\u001b[43m,\u001b[49m\u001b[43m \u001b[49m\u001b[43mheaders\u001b[49m\u001b[43m,\u001b[49m\u001b[43m \u001b[49m\u001b[43mencode_chunked\u001b[49m\u001b[43m)\u001b[49m\n",
            "File \u001b[0;32m/Library/Frameworks/Python.framework/Versions/3.12/lib/python3.12/http/client.py:1382\u001b[0m, in \u001b[0;36mHTTPConnection._send_request\u001b[0;34m(self, method, url, body, headers, encode_chunked)\u001b[0m\n\u001b[1;32m   1381\u001b[0m     body \u001b[38;5;241m=\u001b[39m _encode(body, \u001b[38;5;124m'\u001b[39m\u001b[38;5;124mbody\u001b[39m\u001b[38;5;124m'\u001b[39m)\n\u001b[0;32m-> 1382\u001b[0m \u001b[38;5;28;43mself\u001b[39;49m\u001b[38;5;241;43m.\u001b[39;49m\u001b[43mendheaders\u001b[49m\u001b[43m(\u001b[49m\u001b[43mbody\u001b[49m\u001b[43m,\u001b[49m\u001b[43m \u001b[49m\u001b[43mencode_chunked\u001b[49m\u001b[38;5;241;43m=\u001b[39;49m\u001b[43mencode_chunked\u001b[49m\u001b[43m)\u001b[49m\n",
            "File \u001b[0;32m/Library/Frameworks/Python.framework/Versions/3.12/lib/python3.12/http/client.py:1331\u001b[0m, in \u001b[0;36mHTTPConnection.endheaders\u001b[0;34m(self, message_body, encode_chunked)\u001b[0m\n\u001b[1;32m   1330\u001b[0m     \u001b[38;5;28;01mraise\u001b[39;00m CannotSendHeader()\n\u001b[0;32m-> 1331\u001b[0m \u001b[38;5;28;43mself\u001b[39;49m\u001b[38;5;241;43m.\u001b[39;49m\u001b[43m_send_output\u001b[49m\u001b[43m(\u001b[49m\u001b[43mmessage_body\u001b[49m\u001b[43m,\u001b[49m\u001b[43m \u001b[49m\u001b[43mencode_chunked\u001b[49m\u001b[38;5;241;43m=\u001b[39;49m\u001b[43mencode_chunked\u001b[49m\u001b[43m)\u001b[49m\n",
            "File \u001b[0;32m/Library/Frameworks/Python.framework/Versions/3.12/lib/python3.12/http/client.py:1091\u001b[0m, in \u001b[0;36mHTTPConnection._send_output\u001b[0;34m(self, message_body, encode_chunked)\u001b[0m\n\u001b[1;32m   1090\u001b[0m \u001b[38;5;28;01mdel\u001b[39;00m \u001b[38;5;28mself\u001b[39m\u001b[38;5;241m.\u001b[39m_buffer[:]\n\u001b[0;32m-> 1091\u001b[0m \u001b[38;5;28;43mself\u001b[39;49m\u001b[38;5;241;43m.\u001b[39;49m\u001b[43msend\u001b[49m\u001b[43m(\u001b[49m\u001b[43mmsg\u001b[49m\u001b[43m)\u001b[49m\n\u001b[1;32m   1093\u001b[0m \u001b[38;5;28;01mif\u001b[39;00m message_body \u001b[38;5;129;01mis\u001b[39;00m \u001b[38;5;129;01mnot\u001b[39;00m \u001b[38;5;28;01mNone\u001b[39;00m:\n\u001b[1;32m   1094\u001b[0m \n\u001b[1;32m   1095\u001b[0m     \u001b[38;5;66;03m# create a consistent interface to message_body\u001b[39;00m\n",
            "File \u001b[0;32m/Library/Frameworks/Python.framework/Versions/3.12/lib/python3.12/http/client.py:1035\u001b[0m, in \u001b[0;36mHTTPConnection.send\u001b[0;34m(self, data)\u001b[0m\n\u001b[1;32m   1034\u001b[0m \u001b[38;5;28;01mif\u001b[39;00m \u001b[38;5;28mself\u001b[39m\u001b[38;5;241m.\u001b[39mauto_open:\n\u001b[0;32m-> 1035\u001b[0m     \u001b[38;5;28;43mself\u001b[39;49m\u001b[38;5;241;43m.\u001b[39;49m\u001b[43mconnect\u001b[49m\u001b[43m(\u001b[49m\u001b[43m)\u001b[49m\n\u001b[1;32m   1036\u001b[0m \u001b[38;5;28;01melse\u001b[39;00m:\n",
            "File \u001b[0;32m/Library/Frameworks/Python.framework/Versions/3.12/lib/python3.12/http/client.py:1477\u001b[0m, in \u001b[0;36mHTTPSConnection.connect\u001b[0;34m(self)\u001b[0m\n\u001b[1;32m   1475\u001b[0m     server_hostname \u001b[38;5;241m=\u001b[39m \u001b[38;5;28mself\u001b[39m\u001b[38;5;241m.\u001b[39mhost\n\u001b[0;32m-> 1477\u001b[0m \u001b[38;5;28mself\u001b[39m\u001b[38;5;241m.\u001b[39msock \u001b[38;5;241m=\u001b[39m \u001b[38;5;28;43mself\u001b[39;49m\u001b[38;5;241;43m.\u001b[39;49m\u001b[43m_context\u001b[49m\u001b[38;5;241;43m.\u001b[39;49m\u001b[43mwrap_socket\u001b[49m\u001b[43m(\u001b[49m\u001b[38;5;28;43mself\u001b[39;49m\u001b[38;5;241;43m.\u001b[39;49m\u001b[43msock\u001b[49m\u001b[43m,\u001b[49m\n\u001b[1;32m   1478\u001b[0m \u001b[43m                                      \u001b[49m\u001b[43mserver_hostname\u001b[49m\u001b[38;5;241;43m=\u001b[39;49m\u001b[43mserver_hostname\u001b[49m\u001b[43m)\u001b[49m\n",
            "File \u001b[0;32m/Library/Frameworks/Python.framework/Versions/3.12/lib/python3.12/ssl.py:455\u001b[0m, in \u001b[0;36mSSLContext.wrap_socket\u001b[0;34m(self, sock, server_side, do_handshake_on_connect, suppress_ragged_eofs, server_hostname, session)\u001b[0m\n\u001b[1;32m    449\u001b[0m \u001b[38;5;28;01mdef\u001b[39;00m \u001b[38;5;21mwrap_socket\u001b[39m(\u001b[38;5;28mself\u001b[39m, sock, server_side\u001b[38;5;241m=\u001b[39m\u001b[38;5;28;01mFalse\u001b[39;00m,\n\u001b[1;32m    450\u001b[0m                 do_handshake_on_connect\u001b[38;5;241m=\u001b[39m\u001b[38;5;28;01mTrue\u001b[39;00m,\n\u001b[1;32m    451\u001b[0m                 suppress_ragged_eofs\u001b[38;5;241m=\u001b[39m\u001b[38;5;28;01mTrue\u001b[39;00m,\n\u001b[1;32m    452\u001b[0m                 server_hostname\u001b[38;5;241m=\u001b[39m\u001b[38;5;28;01mNone\u001b[39;00m, session\u001b[38;5;241m=\u001b[39m\u001b[38;5;28;01mNone\u001b[39;00m):\n\u001b[1;32m    453\u001b[0m     \u001b[38;5;66;03m# SSLSocket class handles server_hostname encoding before it calls\u001b[39;00m\n\u001b[1;32m    454\u001b[0m     \u001b[38;5;66;03m# ctx._wrap_socket()\u001b[39;00m\n\u001b[0;32m--> 455\u001b[0m     \u001b[38;5;28;01mreturn\u001b[39;00m \u001b[38;5;28;43mself\u001b[39;49m\u001b[38;5;241;43m.\u001b[39;49m\u001b[43msslsocket_class\u001b[49m\u001b[38;5;241;43m.\u001b[39;49m\u001b[43m_create\u001b[49m\u001b[43m(\u001b[49m\n\u001b[1;32m    456\u001b[0m \u001b[43m        \u001b[49m\u001b[43msock\u001b[49m\u001b[38;5;241;43m=\u001b[39;49m\u001b[43msock\u001b[49m\u001b[43m,\u001b[49m\n\u001b[1;32m    457\u001b[0m \u001b[43m        \u001b[49m\u001b[43mserver_side\u001b[49m\u001b[38;5;241;43m=\u001b[39;49m\u001b[43mserver_side\u001b[49m\u001b[43m,\u001b[49m\n\u001b[1;32m    458\u001b[0m \u001b[43m        \u001b[49m\u001b[43mdo_handshake_on_connect\u001b[49m\u001b[38;5;241;43m=\u001b[39;49m\u001b[43mdo_handshake_on_connect\u001b[49m\u001b[43m,\u001b[49m\n\u001b[1;32m    459\u001b[0m \u001b[43m        \u001b[49m\u001b[43msuppress_ragged_eofs\u001b[49m\u001b[38;5;241;43m=\u001b[39;49m\u001b[43msuppress_ragged_eofs\u001b[49m\u001b[43m,\u001b[49m\n\u001b[1;32m    460\u001b[0m \u001b[43m        \u001b[49m\u001b[43mserver_hostname\u001b[49m\u001b[38;5;241;43m=\u001b[39;49m\u001b[43mserver_hostname\u001b[49m\u001b[43m,\u001b[49m\n\u001b[1;32m    461\u001b[0m \u001b[43m        \u001b[49m\u001b[43mcontext\u001b[49m\u001b[38;5;241;43m=\u001b[39;49m\u001b[38;5;28;43mself\u001b[39;49m\u001b[43m,\u001b[49m\n\u001b[1;32m    462\u001b[0m \u001b[43m        \u001b[49m\u001b[43msession\u001b[49m\u001b[38;5;241;43m=\u001b[39;49m\u001b[43msession\u001b[49m\n\u001b[1;32m    463\u001b[0m \u001b[43m    \u001b[49m\u001b[43m)\u001b[49m\n",
            "File \u001b[0;32m/Library/Frameworks/Python.framework/Versions/3.12/lib/python3.12/ssl.py:1042\u001b[0m, in \u001b[0;36mSSLSocket._create\u001b[0;34m(cls, sock, server_side, do_handshake_on_connect, suppress_ragged_eofs, server_hostname, context, session)\u001b[0m\n\u001b[1;32m   1041\u001b[0m                 \u001b[38;5;28;01mraise\u001b[39;00m \u001b[38;5;167;01mValueError\u001b[39;00m(\u001b[38;5;124m\"\u001b[39m\u001b[38;5;124mdo_handshake_on_connect should not be specified for non-blocking sockets\u001b[39m\u001b[38;5;124m\"\u001b[39m)\n\u001b[0;32m-> 1042\u001b[0m             \u001b[38;5;28;43mself\u001b[39;49m\u001b[38;5;241;43m.\u001b[39;49m\u001b[43mdo_handshake\u001b[49m\u001b[43m(\u001b[49m\u001b[43m)\u001b[49m\n\u001b[1;32m   1043\u001b[0m \u001b[38;5;28;01mexcept\u001b[39;00m:\n",
            "File \u001b[0;32m/Library/Frameworks/Python.framework/Versions/3.12/lib/python3.12/ssl.py:1320\u001b[0m, in \u001b[0;36mSSLSocket.do_handshake\u001b[0;34m(self, block)\u001b[0m\n\u001b[1;32m   1319\u001b[0m         \u001b[38;5;28mself\u001b[39m\u001b[38;5;241m.\u001b[39msettimeout(\u001b[38;5;28;01mNone\u001b[39;00m)\n\u001b[0;32m-> 1320\u001b[0m     \u001b[38;5;28;43mself\u001b[39;49m\u001b[38;5;241;43m.\u001b[39;49m\u001b[43m_sslobj\u001b[49m\u001b[38;5;241;43m.\u001b[39;49m\u001b[43mdo_handshake\u001b[49m\u001b[43m(\u001b[49m\u001b[43m)\u001b[49m\n\u001b[1;32m   1321\u001b[0m \u001b[38;5;28;01mfinally\u001b[39;00m:\n",
            "\u001b[0;31mSSLCertVerificationError\u001b[0m: [SSL: CERTIFICATE_VERIFY_FAILED] certificate verify failed: unable to get local issuer certificate (_ssl.c:1000)",
            "\nDuring handling of the above exception, another exception occurred:\n",
            "\u001b[0;31mURLError\u001b[0m                                  Traceback (most recent call last)",
            "File \u001b[0;32m/Library/Frameworks/Python.framework/Versions/3.12/lib/python3.12/site-packages/keras/src/utils/file_utils.py:309\u001b[0m, in \u001b[0;36mget_file\u001b[0;34m(fname, origin, untar, md5_hash, file_hash, cache_subdir, hash_algorithm, extract, archive_format, cache_dir, force_download)\u001b[0m\n\u001b[1;32m    308\u001b[0m \u001b[38;5;28;01mtry\u001b[39;00m:\n\u001b[0;32m--> 309\u001b[0m     \u001b[43murlretrieve\u001b[49m\u001b[43m(\u001b[49m\u001b[43morigin\u001b[49m\u001b[43m,\u001b[49m\u001b[43m \u001b[49m\u001b[43mdownload_target\u001b[49m\u001b[43m,\u001b[49m\u001b[43m \u001b[49m\u001b[43mDLProgbar\u001b[49m\u001b[43m(\u001b[49m\u001b[43m)\u001b[49m\u001b[43m)\u001b[49m\n\u001b[1;32m    310\u001b[0m \u001b[38;5;28;01mexcept\u001b[39;00m urllib\u001b[38;5;241m.\u001b[39merror\u001b[38;5;241m.\u001b[39mHTTPError \u001b[38;5;28;01mas\u001b[39;00m e:\n",
            "File \u001b[0;32m/Library/Frameworks/Python.framework/Versions/3.12/lib/python3.12/urllib/request.py:240\u001b[0m, in \u001b[0;36murlretrieve\u001b[0;34m(url, filename, reporthook, data)\u001b[0m\n\u001b[1;32m    238\u001b[0m url_type, path \u001b[38;5;241m=\u001b[39m _splittype(url)\n\u001b[0;32m--> 240\u001b[0m \u001b[38;5;28;01mwith\u001b[39;00m contextlib\u001b[38;5;241m.\u001b[39mclosing(\u001b[43murlopen\u001b[49m\u001b[43m(\u001b[49m\u001b[43murl\u001b[49m\u001b[43m,\u001b[49m\u001b[43m \u001b[49m\u001b[43mdata\u001b[49m\u001b[43m)\u001b[49m) \u001b[38;5;28;01mas\u001b[39;00m fp:\n\u001b[1;32m    241\u001b[0m     headers \u001b[38;5;241m=\u001b[39m fp\u001b[38;5;241m.\u001b[39minfo()\n",
            "File \u001b[0;32m/Library/Frameworks/Python.framework/Versions/3.12/lib/python3.12/urllib/request.py:215\u001b[0m, in \u001b[0;36murlopen\u001b[0;34m(url, data, timeout, cafile, capath, cadefault, context)\u001b[0m\n\u001b[1;32m    214\u001b[0m     opener \u001b[38;5;241m=\u001b[39m _opener\n\u001b[0;32m--> 215\u001b[0m \u001b[38;5;28;01mreturn\u001b[39;00m \u001b[43mopener\u001b[49m\u001b[38;5;241;43m.\u001b[39;49m\u001b[43mopen\u001b[49m\u001b[43m(\u001b[49m\u001b[43murl\u001b[49m\u001b[43m,\u001b[49m\u001b[43m \u001b[49m\u001b[43mdata\u001b[49m\u001b[43m,\u001b[49m\u001b[43m \u001b[49m\u001b[43mtimeout\u001b[49m\u001b[43m)\u001b[49m\n",
            "File \u001b[0;32m/Library/Frameworks/Python.framework/Versions/3.12/lib/python3.12/urllib/request.py:515\u001b[0m, in \u001b[0;36mOpenerDirector.open\u001b[0;34m(self, fullurl, data, timeout)\u001b[0m\n\u001b[1;32m    514\u001b[0m sys\u001b[38;5;241m.\u001b[39maudit(\u001b[38;5;124m'\u001b[39m\u001b[38;5;124murllib.Request\u001b[39m\u001b[38;5;124m'\u001b[39m, req\u001b[38;5;241m.\u001b[39mfull_url, req\u001b[38;5;241m.\u001b[39mdata, req\u001b[38;5;241m.\u001b[39mheaders, req\u001b[38;5;241m.\u001b[39mget_method())\n\u001b[0;32m--> 515\u001b[0m response \u001b[38;5;241m=\u001b[39m \u001b[38;5;28;43mself\u001b[39;49m\u001b[38;5;241;43m.\u001b[39;49m\u001b[43m_open\u001b[49m\u001b[43m(\u001b[49m\u001b[43mreq\u001b[49m\u001b[43m,\u001b[49m\u001b[43m \u001b[49m\u001b[43mdata\u001b[49m\u001b[43m)\u001b[49m\n\u001b[1;32m    517\u001b[0m \u001b[38;5;66;03m# post-process response\u001b[39;00m\n",
            "File \u001b[0;32m/Library/Frameworks/Python.framework/Versions/3.12/lib/python3.12/urllib/request.py:532\u001b[0m, in \u001b[0;36mOpenerDirector._open\u001b[0;34m(self, req, data)\u001b[0m\n\u001b[1;32m    531\u001b[0m protocol \u001b[38;5;241m=\u001b[39m req\u001b[38;5;241m.\u001b[39mtype\n\u001b[0;32m--> 532\u001b[0m result \u001b[38;5;241m=\u001b[39m \u001b[38;5;28;43mself\u001b[39;49m\u001b[38;5;241;43m.\u001b[39;49m\u001b[43m_call_chain\u001b[49m\u001b[43m(\u001b[49m\u001b[38;5;28;43mself\u001b[39;49m\u001b[38;5;241;43m.\u001b[39;49m\u001b[43mhandle_open\u001b[49m\u001b[43m,\u001b[49m\u001b[43m \u001b[49m\u001b[43mprotocol\u001b[49m\u001b[43m,\u001b[49m\u001b[43m \u001b[49m\u001b[43mprotocol\u001b[49m\u001b[43m \u001b[49m\u001b[38;5;241;43m+\u001b[39;49m\n\u001b[1;32m    533\u001b[0m \u001b[43m                          \u001b[49m\u001b[38;5;124;43m'\u001b[39;49m\u001b[38;5;124;43m_open\u001b[39;49m\u001b[38;5;124;43m'\u001b[39;49m\u001b[43m,\u001b[49m\u001b[43m \u001b[49m\u001b[43mreq\u001b[49m\u001b[43m)\u001b[49m\n\u001b[1;32m    534\u001b[0m \u001b[38;5;28;01mif\u001b[39;00m result:\n",
            "File \u001b[0;32m/Library/Frameworks/Python.framework/Versions/3.12/lib/python3.12/urllib/request.py:492\u001b[0m, in \u001b[0;36mOpenerDirector._call_chain\u001b[0;34m(self, chain, kind, meth_name, *args)\u001b[0m\n\u001b[1;32m    491\u001b[0m func \u001b[38;5;241m=\u001b[39m \u001b[38;5;28mgetattr\u001b[39m(handler, meth_name)\n\u001b[0;32m--> 492\u001b[0m result \u001b[38;5;241m=\u001b[39m \u001b[43mfunc\u001b[49m\u001b[43m(\u001b[49m\u001b[38;5;241;43m*\u001b[39;49m\u001b[43margs\u001b[49m\u001b[43m)\u001b[49m\n\u001b[1;32m    493\u001b[0m \u001b[38;5;28;01mif\u001b[39;00m result \u001b[38;5;129;01mis\u001b[39;00m \u001b[38;5;129;01mnot\u001b[39;00m \u001b[38;5;28;01mNone\u001b[39;00m:\n",
            "File \u001b[0;32m/Library/Frameworks/Python.framework/Versions/3.12/lib/python3.12/urllib/request.py:1392\u001b[0m, in \u001b[0;36mHTTPSHandler.https_open\u001b[0;34m(self, req)\u001b[0m\n\u001b[1;32m   1391\u001b[0m \u001b[38;5;28;01mdef\u001b[39;00m \u001b[38;5;21mhttps_open\u001b[39m(\u001b[38;5;28mself\u001b[39m, req):\n\u001b[0;32m-> 1392\u001b[0m     \u001b[38;5;28;01mreturn\u001b[39;00m \u001b[38;5;28;43mself\u001b[39;49m\u001b[38;5;241;43m.\u001b[39;49m\u001b[43mdo_open\u001b[49m\u001b[43m(\u001b[49m\u001b[43mhttp\u001b[49m\u001b[38;5;241;43m.\u001b[39;49m\u001b[43mclient\u001b[49m\u001b[38;5;241;43m.\u001b[39;49m\u001b[43mHTTPSConnection\u001b[49m\u001b[43m,\u001b[49m\u001b[43m \u001b[49m\u001b[43mreq\u001b[49m\u001b[43m,\u001b[49m\n\u001b[1;32m   1393\u001b[0m \u001b[43m                        \u001b[49m\u001b[43mcontext\u001b[49m\u001b[38;5;241;43m=\u001b[39;49m\u001b[38;5;28;43mself\u001b[39;49m\u001b[38;5;241;43m.\u001b[39;49m\u001b[43m_context\u001b[49m\u001b[43m)\u001b[49m\n",
            "File \u001b[0;32m/Library/Frameworks/Python.framework/Versions/3.12/lib/python3.12/urllib/request.py:1347\u001b[0m, in \u001b[0;36mAbstractHTTPHandler.do_open\u001b[0;34m(self, http_class, req, **http_conn_args)\u001b[0m\n\u001b[1;32m   1346\u001b[0m \u001b[38;5;28;01mexcept\u001b[39;00m \u001b[38;5;167;01mOSError\u001b[39;00m \u001b[38;5;28;01mas\u001b[39;00m err: \u001b[38;5;66;03m# timeout error\u001b[39;00m\n\u001b[0;32m-> 1347\u001b[0m     \u001b[38;5;28;01mraise\u001b[39;00m URLError(err)\n\u001b[1;32m   1348\u001b[0m r \u001b[38;5;241m=\u001b[39m h\u001b[38;5;241m.\u001b[39mgetresponse()\n",
            "\u001b[0;31mURLError\u001b[0m: <urlopen error [SSL: CERTIFICATE_VERIFY_FAILED] certificate verify failed: unable to get local issuer certificate (_ssl.c:1000)>",
            "\nDuring handling of the above exception, another exception occurred:\n",
            "\u001b[0;31mException\u001b[0m                                 Traceback (most recent call last)",
            "Cell \u001b[0;32mIn[25], line 7\u001b[0m\n\u001b[1;32m      3\u001b[0m \u001b[38;5;28;01mfrom\u001b[39;00m \u001b[38;5;21;01mkeras\u001b[39;00m \u001b[38;5;28;01mimport\u001b[39;00m layers, models\n\u001b[1;32m      4\u001b[0m \u001b[38;5;28;01mimport\u001b[39;00m \u001b[38;5;21;01mmatplotlib\u001b[39;00m\u001b[38;5;21;01m.\u001b[39;00m\u001b[38;5;21;01mpyplot\u001b[39;00m \u001b[38;5;28;01mas\u001b[39;00m \u001b[38;5;21;01mplt\u001b[39;00m\n\u001b[0;32m----> 7\u001b[0m (X_train, y_train), (X_test, y_test) \u001b[38;5;241m=\u001b[39m \u001b[43mmnist\u001b[49m\u001b[38;5;241;43m.\u001b[39;49m\u001b[43mload_data\u001b[49m\u001b[43m(\u001b[49m\u001b[43m)\u001b[49m\n\u001b[1;32m      9\u001b[0m \u001b[38;5;66;03m# normalize values\u001b[39;00m\n\u001b[1;32m     10\u001b[0m X_train \u001b[38;5;241m=\u001b[39m X_train \u001b[38;5;241m/\u001b[39m \u001b[38;5;241m255\u001b[39m\n",
            "File \u001b[0;32m/Library/Frameworks/Python.framework/Versions/3.12/lib/python3.12/site-packages/keras/src/datasets/mnist.py:60\u001b[0m, in \u001b[0;36mload_data\u001b[0;34m(path)\u001b[0m\n\u001b[1;32m     11\u001b[0m \u001b[38;5;124;03m\"\"\"Loads the MNIST dataset.\u001b[39;00m\n\u001b[1;32m     12\u001b[0m \n\u001b[1;32m     13\u001b[0m \u001b[38;5;124;03mThis is a dataset of 60,000 28x28 grayscale images of the 10 digits,\u001b[39;00m\n\u001b[0;32m   (...)\u001b[0m\n\u001b[1;32m     55\u001b[0m \u001b[38;5;124;03m    https://creativecommons.org/licenses/by-sa/3.0/)\u001b[39;00m\n\u001b[1;32m     56\u001b[0m \u001b[38;5;124;03m\"\"\"\u001b[39;00m\n\u001b[1;32m     57\u001b[0m origin_folder \u001b[38;5;241m=\u001b[39m (\n\u001b[1;32m     58\u001b[0m     \u001b[38;5;124m\"\u001b[39m\u001b[38;5;124mhttps://storage.googleapis.com/tensorflow/tf-keras-datasets/\u001b[39m\u001b[38;5;124m\"\u001b[39m\n\u001b[1;32m     59\u001b[0m )\n\u001b[0;32m---> 60\u001b[0m path \u001b[38;5;241m=\u001b[39m \u001b[43mget_file\u001b[49m\u001b[43m(\u001b[49m\n\u001b[1;32m     61\u001b[0m \u001b[43m    \u001b[49m\u001b[43mfname\u001b[49m\u001b[38;5;241;43m=\u001b[39;49m\u001b[43mpath\u001b[49m\u001b[43m,\u001b[49m\n\u001b[1;32m     62\u001b[0m \u001b[43m    \u001b[49m\u001b[43morigin\u001b[49m\u001b[38;5;241;43m=\u001b[39;49m\u001b[43morigin_folder\u001b[49m\u001b[43m \u001b[49m\u001b[38;5;241;43m+\u001b[39;49m\u001b[43m \u001b[49m\u001b[38;5;124;43m\"\u001b[39;49m\u001b[38;5;124;43mmnist.npz\u001b[39;49m\u001b[38;5;124;43m\"\u001b[39;49m\u001b[43m,\u001b[49m\n\u001b[1;32m     63\u001b[0m \u001b[43m    \u001b[49m\u001b[43mfile_hash\u001b[49m\u001b[38;5;241;43m=\u001b[39;49m\u001b[43m(\u001b[49m\u001b[43m  \u001b[49m\u001b[38;5;66;43;03m# noqa: E501\u001b[39;49;00m\n\u001b[1;32m     64\u001b[0m \u001b[43m        \u001b[49m\u001b[38;5;124;43m\"\u001b[39;49m\u001b[38;5;124;43m731c5ac602752760c8e48fbffcf8c3b850d9dc2a2aedcf2cc48468fc17b673d1\u001b[39;49m\u001b[38;5;124;43m\"\u001b[39;49m\n\u001b[1;32m     65\u001b[0m \u001b[43m    \u001b[49m\u001b[43m)\u001b[49m\u001b[43m,\u001b[49m\n\u001b[1;32m     66\u001b[0m \u001b[43m\u001b[49m\u001b[43m)\u001b[49m\n\u001b[1;32m     67\u001b[0m \u001b[38;5;28;01mwith\u001b[39;00m np\u001b[38;5;241m.\u001b[39mload(path, allow_pickle\u001b[38;5;241m=\u001b[39m\u001b[38;5;28;01mTrue\u001b[39;00m) \u001b[38;5;28;01mas\u001b[39;00m f:\n\u001b[1;32m     68\u001b[0m     x_train, y_train \u001b[38;5;241m=\u001b[39m f[\u001b[38;5;124m\"\u001b[39m\u001b[38;5;124mx_train\u001b[39m\u001b[38;5;124m\"\u001b[39m], f[\u001b[38;5;124m\"\u001b[39m\u001b[38;5;124my_train\u001b[39m\u001b[38;5;124m\"\u001b[39m]\n",
            "File \u001b[0;32m/Library/Frameworks/Python.framework/Versions/3.12/lib/python3.12/site-packages/keras/src/utils/file_utils.py:313\u001b[0m, in \u001b[0;36mget_file\u001b[0;34m(fname, origin, untar, md5_hash, file_hash, cache_subdir, hash_algorithm, extract, archive_format, cache_dir, force_download)\u001b[0m\n\u001b[1;32m    311\u001b[0m         \u001b[38;5;28;01mraise\u001b[39;00m \u001b[38;5;167;01mException\u001b[39;00m(error_msg\u001b[38;5;241m.\u001b[39mformat(origin, e\u001b[38;5;241m.\u001b[39mcode, e\u001b[38;5;241m.\u001b[39mmsg))\n\u001b[1;32m    312\u001b[0m     \u001b[38;5;28;01mexcept\u001b[39;00m urllib\u001b[38;5;241m.\u001b[39merror\u001b[38;5;241m.\u001b[39mURLError \u001b[38;5;28;01mas\u001b[39;00m e:\n\u001b[0;32m--> 313\u001b[0m         \u001b[38;5;28;01mraise\u001b[39;00m \u001b[38;5;167;01mException\u001b[39;00m(error_msg\u001b[38;5;241m.\u001b[39mformat(origin, e\u001b[38;5;241m.\u001b[39merrno, e\u001b[38;5;241m.\u001b[39mreason))\n\u001b[1;32m    314\u001b[0m \u001b[38;5;28;01mexcept\u001b[39;00m (\u001b[38;5;167;01mException\u001b[39;00m, \u001b[38;5;167;01mKeyboardInterrupt\u001b[39;00m):\n\u001b[1;32m    315\u001b[0m     \u001b[38;5;28;01mif\u001b[39;00m os\u001b[38;5;241m.\u001b[39mpath\u001b[38;5;241m.\u001b[39mexists(download_target):\n",
            "\u001b[0;31mException\u001b[0m: URL fetch failure on https://storage.googleapis.com/tensorflow/tf-keras-datasets/mnist.npz: None -- [SSL: CERTIFICATE_VERIFY_FAILED] certificate verify failed: unable to get local issuer certificate (_ssl.c:1000)"
          ]
        }
      ],
      "source": [
        "import tensorflow as tf\n",
        "from keras.datasets import mnist\n",
        "from keras import layers, models\n",
        "import matplotlib.pyplot as plt\n",
        "\n",
        "\n",
        "(X_train, y_train), (X_test, y_test) = mnist.load_data()\n",
        "\n",
        "# normalize values\n",
        "X_train = X_train / 255\n",
        "X_test = X_test / 255"
      ]
    },
    {
      "cell_type": "markdown",
      "metadata": {
        "id": "XhLVl8TdmSoz"
      },
      "source": [
        "Build a sequential model using `keras.models.Sequential` and add dense layers and experiment with it. Compile and train the model."
      ]
    },
    {
      "cell_type": "code",
      "execution_count": 122,
      "metadata": {
        "id": "SEpumz1BnUWF"
      },
      "outputs": [
        {
          "ename": "NameError",
          "evalue": "name 'models' is not defined",
          "output_type": "error",
          "traceback": [
            "\u001b[0;31m---------------------------------------------------------------------------\u001b[0m",
            "\u001b[0;31mNameError\u001b[0m                                 Traceback (most recent call last)",
            "Cell \u001b[0;32mIn[122], line 3\u001b[0m\n\u001b[1;32m      1\u001b[0m \u001b[38;5;66;03m# Building and Training the Model\u001b[39;00m\n\u001b[0;32m----> 3\u001b[0m model \u001b[38;5;241m=\u001b[39m \u001b[43mmodels\u001b[49m\u001b[38;5;241m.\u001b[39mSequential()\n\u001b[1;32m      4\u001b[0m model\u001b[38;5;241m.\u001b[39madd(layers\u001b[38;5;241m.\u001b[39mInput((\u001b[38;5;241m28\u001b[39m,\u001b[38;5;241m28\u001b[39m)))\n\u001b[1;32m      5\u001b[0m model\u001b[38;5;241m.\u001b[39madd(layers\u001b[38;5;241m.\u001b[39mFlatten())\n",
            "\u001b[0;31mNameError\u001b[0m: name 'models' is not defined"
          ]
        }
      ],
      "source": [
        "# Building and Training the Model\n",
        "\n",
        "model = models.Sequential()\n",
        "model.add(layers.Input((28,28)))\n",
        "model.add(layers.Flatten())\n",
        "model.add(layers.Dense(128, activation='relu'))\n",
        "model.add(layers.Dense(64, activation='relu'))\n",
        "model.add(layers.Dense(10, activation='softmax'))\n",
        "\n",
        "model.compile(optimizer='adam', loss='sparse_categorical_crossentropy', metrics=['accuracy'])\n",
        "\n",
        "history = model.fit(X_train, y_train, epochs=10, batch_size=32, validation_split=0.2)"
      ]
    },
    {
      "cell_type": "code",
      "execution_count": null,
      "metadata": {
        "id": "Rp4Ro0PJnWGh"
      },
      "outputs": [],
      "source": [
        "# evaluate your model by running the code below\n",
        "score = model.evaluate(X_test, y_test)\n",
        "print('Test score:', score[0])\n",
        "print('Test accuracy:', score[1])"
      ]
    },
    {
      "cell_type": "code",
      "execution_count": null,
      "metadata": {
        "id": "D29aasWFoMlY"
      },
      "outputs": [],
      "source": [
        "def display_image(x, y):\n",
        "    '''\n",
        "    You can use this function to view the individual images in the dataset.\n",
        "    '''\n",
        "    plt.imshow(x, cmap='gray')\n",
        "    plt.title(f'Label: {y}')\n",
        "    plt.colorbar()\n",
        "    plt.show()\n",
        "\n",
        "\n",
        "display_image(X_train[0], y_train[0])"
      ]
    },
    {
      "cell_type": "markdown",
      "metadata": {
        "id": "hogNcCghn3wH"
      },
      "source": [
        "## 3.1 Separate Validation and Test Sets"
      ]
    },
    {
      "cell_type": "markdown",
      "metadata": {
        "id": "m6MNi-OtnhpV"
      },
      "source": [
        "As we load the data from the built-in keras function, it splits them into two subsets; however, it is recommended to split the data into three subsets such as:\n",
        "\n",
        "```\n",
        "80% train, 10% val, 10% test\n",
        "```\n",
        "\n",
        "Use the mentioned ratios to split the data and train the model using these portions. For each one of your experiments, train the model and report the loss and accuracy of model on the training and validation set. (for more information check this [link](https://scikit-learn.org/stable/modules/learning_curve.html#:~:text=2.-,Learning%20curve,error%20or%20a%20bias%20error.))  \n",
        "\n",
        "> Note: since the dataset is already split into train and test sets for you, you should concatenate and shuffle the two sets before splitting them again to achieve the ratios you want"
      ]
    },
    {
      "cell_type": "code",
      "execution_count": null,
      "metadata": {
        "id": "LJM8L41CoAhb"
      },
      "outputs": [],
      "source": [
        "# Your code here"
      ]
    },
    {
      "cell_type": "markdown",
      "metadata": {
        "id": "E3hvA7BzqCaV"
      },
      "source": [
        "## 3.2 Experiments\n",
        "\n",
        "Experiment with different hyperparameters and report your best accuracy found. The most important hyperparameters that you need to experiment with in this question part are:\n",
        "\n",
        "* number of layers\n",
        "* nodes per hidden layer\n",
        "* learning rate\n",
        "* number of epochs\n",
        "\n",
        "Perform at least three experiments, being sure to vary only one hyperparameter at a time. To select the best choice of hyperparameters, draw the loss and accuracy curve. Create a table to display your results in a clean way."
      ]
    },
    {
      "cell_type": "code",
      "execution_count": null,
      "metadata": {
        "id": "hyhnE8XFqdO7"
      },
      "outputs": [],
      "source": [
        "# your experiments here\n",
        "# create cells and functions to make your experimentation easier."
      ]
    },
    {
      "cell_type": "markdown",
      "metadata": {
        "id": "oSO9uwp9rWFs"
      },
      "source": [
        "# 4. Tuning Generalization\n",
        "\n",
        "In this question you will construct a neural network to classify a large set of low resolution images. Different from Q3, in this case we suggest a neural network to start experimenting with, but we would like you to describe the behavior of the network as you modify certain parameters. You will be reproducing some concepts mentioned during the lectures, such as when we show how generalization changes as the number of parameters are changed."
      ]
    },
    {
      "cell_type": "markdown",
      "metadata": {
        "id": "9ae9p_M0rkCF"
      },
      "source": [
        "## 4.1 Initial Model\n",
        "\n",
        "Use the CIFAR-100 dataset (available from Keras)\n",
        "\n",
        "```python\n",
        "from keras.datasets import cifar100\n",
        "(x_train_original, y_train_original), (x_test_original, y_test_original) =\n",
        "cifar100.load_data(label_mode='fine')\n",
        "```\n",
        "to train a neural network with **two hidden layers using the logistic activation function, with 500 and 200 hidden nodes, respectively**. The output layer should be defined according to the nature of the targets.\n",
        "\n",
        "Generate a plot that shows average precision for training and test sets as a function of the number of epochs. Indicate what a reasonable number of epochs should be.\n",
        "\n",
        "> Hint: Keras' `history` callback may be a helpful utility here."
      ]
    },
    {
      "cell_type": "code",
      "execution_count": null,
      "metadata": {
        "id": "icF2nQjRr9RQ"
      },
      "outputs": [],
      "source": [
        "from keras.datasets import cifar100\n",
        "\n",
        "(x_train_original, y_train_original), (x_test_original, y_test_original) = cifar100.load_data(label_mode='fine')\n",
        "x_train_original, x_test_original = x_train_original / 255.0, x_test_original / 255.0"
      ]
    },
    {
      "cell_type": "code",
      "execution_count": null,
      "metadata": {
        "id": "G8k10-A2r-rc"
      },
      "outputs": [],
      "source": [
        "from keras import utils\n",
        "\n",
        "# Quickly check the shape of input and output\n",
        "print(x_train_original[0].shape, x_train_original.shape)\n",
        "print(y_train_original[0], y_train_original.shape)\n",
        "print(y_train_original[:10].T)\n",
        "\n",
        "# looks like its a 32x32 image with 3 values for each of\n",
        "# those pixels (rgb)\n",
        "\n",
        "# The dataset ( from https://www.cs.toronto.edu/~kriz/cifar.html ) contains\n",
        "# color images with 100 classes with each class containing 600 images\n",
        "\n",
        "y_train = utils.to_categorical(y_train_original)\n",
        "y_test = utils.to_categorical(y_test_original)"
      ]
    },
    {
      "cell_type": "code",
      "execution_count": null,
      "metadata": {
        "id": "pIgh8d-MsAxk"
      },
      "outputs": [],
      "source": [
        "# Your code here\n",
        "\n",
        "# Create the model as described\n",
        "# Perform experiments"
      ]
    },
    {
      "cell_type": "markdown",
      "metadata": {
        "id": "BqY0h4Nusn6j"
      },
      "source": [
        "## 4.2 Average Precision based on Hidden Nodes\n",
        "\n",
        "Generate a plot that shows average precision for training and test sets as a function of the number of weights/parameters (# hidden nodes). For this part, you will be modifying the architecture that was given to you as a starting point."
      ]
    },
    {
      "cell_type": "code",
      "execution_count": null,
      "metadata": {
        "id": "j7IipV33s1pu"
      },
      "outputs": [],
      "source": [
        "# Your code here"
      ]
    },
    {
      "cell_type": "markdown",
      "metadata": {
        "id": "J5z63snrs99J"
      },
      "source": [
        "## 4.3 Average Precision based on Training set\n",
        "\n",
        "Generate a plot that shows average precision for training and test sets as a function of the number of instances in the training set. For this part, you will be modifying your training set. For instance, you can run 10 experiments where you first use a random 10% of the training data, a second experiment where you use a random 20% of the training data, and so on until\n",
        "you use the entire training set. Keep the network hyperparameters constant during your experiments."
      ]
    },
    {
      "cell_type": "code",
      "execution_count": null,
      "metadata": {
        "id": "fL4sX8LitPwl"
      },
      "outputs": [],
      "source": [
        "# Your code here"
      ]
    },
    {
      "cell_type": "markdown",
      "metadata": {
        "id": "ZpkChaG-tWMl"
      },
      "source": [
        "## 4.4 Best Neural Network?\n",
        "\n",
        "Define the best network architecture from your experiments above and report the accuracy and average precision for all classes."
      ]
    },
    {
      "cell_type": "markdown",
      "metadata": {
        "id": "5erU9b53tdRZ"
      },
      "source": [
        "### 4.4 Answer\n",
        "\n",
        "Your written answer here, a table may be helpful."
      ]
    },
    {
      "cell_type": "markdown",
      "metadata": {
        "id": "waAeniFHtkXw"
      },
      "source": [
        "## 4.5 Ensenble of Neural Networks\n",
        "\n",
        "Can you improve test prediction performance by using an ensemble of neural networks? Explain with words (don't implement!)"
      ]
    },
    {
      "cell_type": "markdown",
      "metadata": {
        "id": "fZvzWKf1tqQt"
      },
      "source": [
        "### 4.5 Answer\n",
        "\n",
        "Your written answer here."
      ]
    }
  ],
  "metadata": {
    "colab": {
      "provenance": []
    },
    "kernelspec": {
      "display_name": "Python 3",
      "name": "python3"
    },
    "language_info": {
      "codemirror_mode": {
        "name": "ipython",
        "version": 3
      },
      "file_extension": ".py",
      "mimetype": "text/x-python",
      "name": "python",
      "nbconvert_exporter": "python",
      "pygments_lexer": "ipython3",
      "version": "3.12.4"
    }
  },
  "nbformat": 4,
  "nbformat_minor": 0
}
