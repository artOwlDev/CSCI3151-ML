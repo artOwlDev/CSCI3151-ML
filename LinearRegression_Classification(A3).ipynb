{
  "cells": [
    {
      "cell_type": "markdown",
      "metadata": {
        "id": "A3LkNEvNVZgj"
      },
      "source": [
        "<center>\n",
        "<h1>CSCI3151 - Foundations of Machine Learning - Fall 2024</h1>\n",
        "<h2>Assignment 3</h2>\n",
        "</center>\n",
        "\n",
        "\n",
        "**Due on: 11 October at 23:59 ADT**\n",
        "\n",
        "- **Grade Period**: There is a 5-hour grace period after the deadline to allow for last minute technical issues.\n",
        "- **Late Submissions:** You can submit the assignment up to 2 days late with a 20% penalty applied to your grade.\n",
        "- **AI tools:** The policy on using AI tools is as discussed in class, and will be announced on Brightspace.\n",
        "- **Working in Groups:** You may do this assignment alone or in groups of 2 or 3. If working in groups, only one person must submit it, and the assignment must clearly indicate the names and B-numbers of all group members.\n",
        "\n",
        "[Assignment Submission Instructions as given on BrightSpace](https://dal.brightspace.com/d2l/le/content/342520/viewContent/4477501/View)"
      ]
    },
    {
      "cell_type": "markdown",
      "metadata": {
        "id": "sRLxZEZfk6Ry"
      },
      "source": [
        "# Preamble\n",
        "\n",
        "In this assignment you will explore regression and gradient descent, two of the most fundamental building blocks in machine learning and data science. You will also continue exploring creating synthetic data sets (as you already did for A1), one of the most valuable skills in machine learning: creating your own synthetic data set is the best ML debugging tool I know of!\n",
        "\n",
        "The first step will be to create your dataset (Question 1). Then you will build a regression solver (Question 2). And finally, you will improve your model to make it more powerful (Question 3). For top marks you will also add a regularization term, so that your powerful model isn’t *too* powerful :)\n",
        "\n",
        "The focus of this assignment is two fold. First, it is to help you get comfortable building a linear regression model and understand gradient descent. Second, is to help you get used to experimenting with your models and debugging them.\n",
        "\n",
        "Feel free to create new cells or new functions if you want to experiment with something. In fact, you are encouraged to do this. You should play around and see all the things this model can do.\n",
        "\n",
        "Functions that have a little `# GRADED FUNCTION` or cells that start with `# GRADED SECTION` are the graded parts (coding parts) of this Jupyter Notebook."
      ]
    },
    {
      "cell_type": "code",
      "execution_count": 2,
      "metadata": {
        "id": "GKimOmrR5I4q"
      },
      "outputs": [],
      "source": [
        "import random\n",
        "import numpy as np\n",
        "import matplotlib.pyplot as plt"
      ]
    },
    {
      "cell_type": "markdown",
      "metadata": {
        "id": "BYx5OmoaO5xp"
      },
      "source": [
        "## **1. Data Generation** ( 6 pts)\n",
        "\n",
        "You will create a set of functions that generate data which can be used to train a regression model. The regression will ultimately take one input, $x$, and produce one (target) output, $t$. However, your data generation function will also take some parameters, as described later."
      ]
    },
    {
      "cell_type": "markdown",
      "metadata": {
        "id": "pmvhwKs2N0Pb"
      },
      "source": [
        "### a) Linear Data\n",
        "First, write a function `generate_line(n=100, xmin=0, xmax=10, c0=0, c1=0)`\n",
        "that randomly chooses $n$ input points in the interval $[x_{min}, x_{max}]$. For each $x$ in this list it computes a target $t = c_0 + c_1 x$. It returns a list (or `numpy.ndarray`) $[[x_0, t_0], [x_1,t_1], \\dots, [x_n,t_n]]$. For example:\n",
        "```python\n",
        "data = generate_line(3, 0, 5, 1, 2)\n",
        "data\n",
        ">    [[2.39126432027044, 5.78252864054088],\n",
        "      [3.750966822926141, 8.501933645852283],\n",
        "      [1.9454086762362344, 4.890817352472469]]\n",
        "```"
      ]
    },
    {
      "cell_type": "code",
      "execution_count": 3,
      "metadata": {
        "id": "4z4rFGDmoNuD"
      },
      "outputs": [],
      "source": [
        "# This function is here to help you plot your line.\n",
        "def plot_curve(data):\n",
        "    plt.scatter(data[:, 0], data[:, 1], marker='o', color='blue')\n",
        "    plt.xlabel('x')\n",
        "    plt.ylabel('t')\n",
        "    plt.grid(True)\n",
        "    plt.show()"
      ]
    },
    {
      "cell_type": "markdown",
      "metadata": {
        "id": "WZ_MLYM5o6zy"
      },
      "source": [
        "#### Answer 1a."
      ]
    },
    {
      "cell_type": "code",
      "execution_count": 4,
      "metadata": {
        "id": "0wExnvgBALro"
      },
      "outputs": [],
      "source": [
        "# GRADED FUNCTION\n",
        "def generate_line(n=100, xmin=0, xmax=10, c0=0, c1=0):\n",
        "    # your code here\n",
        "\n",
        "    x = np.random.randint(xmin, xmax, n)\n",
        "    t = c0 + c1 * x\n",
        "\n",
        "    return np.column_stack((x,t))\n",
        "\n",
        "    \n",
        "\n",
        "   \n",
        "    pass"
      ]
    },
    {
      "cell_type": "markdown",
      "metadata": {
        "id": "p84dqa6uo-r9"
      },
      "source": [
        "#### Manual Test 1a."
      ]
    },
    {
      "cell_type": "code",
      "execution_count": 5,
      "metadata": {
        "id": "BZcnMSENonHd"
      },
      "outputs": [
        {
          "name": "stdout",
          "output_type": "stream",
          "text": [
            "[[1 1]\n",
            " [4 4]\n",
            " [2 2]\n",
            " [8 8]\n",
            " [4 4]\n",
            " [6 6]\n",
            " [2 2]\n",
            " [6 6]\n",
            " [5 5]\n",
            " [9 9]]\n"
          ]
        },
        {
          "data": {
            "image/png": "[encoded data removed]",
            "text/plain": [
              "<Figure size 640x480 with 1 Axes>"
            ]
          },
          "metadata": {},
          "output_type": "display_data"
        }
      ],
      "source": [
        "# Test your function by plotting a line\n",
        "# and printing the first 10 points in your array.\n",
        "\n",
        "data = generate_line(100, 0, 10, 0, 1)\n",
        "print(data[:10])\n",
        "plot_curve(data)"
      ]
    },
    {
      "cell_type": "markdown",
      "metadata": {
        "id": "stRpKLN_GkQT"
      },
      "source": [
        "### b) Polynomial Data\n",
        "Now modify the above function, to create a new function:\n",
        "\n",
        " `generate_poly(n=100, xmin=0, xmax=10, coeffs=[1, 2])`\n",
        "\n",
        "This is the same as `generate_line`, except that instead of two parameters $c_0$ ane $c_1$, you can provide as an argument a vector $[c_0, c_1, \\dots, c_D]$ of arbitrary length $D+1$, where the $c_i$'s  represent the coefficients of a polynomial.\n",
        "\n",
        " So for example, if you write:\n",
        " `generate_poly(coeffs=[1, 5, 2, -4])`\n",
        "then this would generate points along the polynomial $t = 1 + 5x + 2x^2 - 4 x^3$.\n",
        "\n",
        "That is, $\\text{coeffs}=[c_0, c_1, \\dots, c_D]$ will make your function generate data from the polynomial $t = c_0 + c_1 x + c_2 x^2 + … + c_D x^D$. This function should also return a list (or `numpy.ndarray`) $[[x_0, t_0], [x_1,t_1], \\dots, [x_n,t_n]]$.\n",
        "\n",
        "> NOTE: `numpy.vander` function does exactly this but you're not allowed to use it for this particular question. We want you to understand how to build this on your own."
      ]
    },
    {
      "cell_type": "markdown",
      "metadata": {
        "id": "u0ZSjuA4pmu6"
      },
      "source": [
        "#### Answer 1b."
      ]
    },
    {
      "cell_type": "code",
      "execution_count": 6,
      "metadata": {
        "id": "wr7N1QlpIkpj"
      },
      "outputs": [],
      "source": [
        "# GRADED FUNCTION\n",
        "def generate_poly(n=100, xmin=0, xmax=10, coeffs=[1, 2]):\n",
        "    # your code here\n",
        "    # np.vander is not allowed\n",
        "\n",
        "    x = np.random.randint(xmin, xmax, n)\n",
        "    res = np.empty((n, 2))\n",
        "\n",
        "    for i in range(n):\n",
        "\n",
        "        t = coeffs[0]\n",
        "\n",
        "        for j in range(1, len(coeffs)):\n",
        "            t += coeffs[j] * pow(x[i],j)\n",
        "        \n",
        "        res[i] = [x[i], t]       \n",
        "    \n",
        "    return res\n",
        "\n",
        "    pass"
      ]
    },
    {
      "cell_type": "markdown",
      "metadata": {
        "id": "0AGFJkcApp6D"
      },
      "source": [
        "#### Manual Test 1b."
      ]
    },
    {
      "cell_type": "code",
      "execution_count": 7,
      "metadata": {
        "id": "eu9moMKNpsEe"
      },
      "outputs": [
        {
          "data": {
            "image/png": "[encoded data removed]",
            "text/plain": [
              "<Figure size 640x480 with 1 Axes>"
            ]
          },
          "metadata": {},
          "output_type": "display_data"
        },
        {
          "data": {
            "image/png": "[encoded data removed]",
            "text/plain": [
              "<Figure size 640x480 with 1 Axes>"
            ]
          },
          "metadata": {},
          "output_type": "display_data"
        }
      ],
      "source": [
        "num_pts = 100\n",
        "x_min, x_max = (-4, 3)\n",
        "coefficients = [5/4, -5/2, 3/2, 1]\n",
        "\n",
        "# Test against a known curve: x^2\n",
        "data = generate_poly(100, -10, 10, coeffs=[0,0,1])\n",
        "plot_curve(data)\n",
        "\n",
        "# Test given curve\n",
        "data = generate_poly(num_pts, x_min, x_max, coefficients)\n",
        "plot_curve(data)"
      ]
    },
    {
      "cell_type": "markdown",
      "metadata": {
        "id": "9CMmV_kBKOKR"
      },
      "source": [
        "### c) Noisy Polynomial Data.\n",
        "Finally, rewrite your `generate_poly()` function to use the function `noise(mean, standard_deviation)` below to add random gaussian noise to every generated data point, so that the targets $t$ are\n",
        "$t = \\Sigma_i (c_i x^i) + \\text{noise}(\\theta, \\sigma)$. This should make your line look noisy and not perfect."
      ]
    },
    {
      "cell_type": "code",
      "execution_count": 8,
      "metadata": {
        "id": "QtSqyCUeWVWw"
      },
      "outputs": [],
      "source": [
        "def noise(mean, standard_deviation):\n",
        "    return random.gauss(mean, standard_deviation)"
      ]
    },
    {
      "cell_type": "code",
      "execution_count": 20,
      "metadata": {
        "id": "TgD-YtaZL7F-"
      },
      "outputs": [],
      "source": [
        "# GRADED FUNCTION\n",
        "def generate_poly_noisy(n=100, xmin=0, xmax=10, coeffs=[1], theta=0.5, sigma=0.5):\n",
        "    # your code here\n",
        "\n",
        "    x = np.random.randint(xmin, xmax, n)\n",
        "    res = np.empty((n, 2))\n",
        "\n",
        "    for i in range(n):\n",
        "\n",
        "        t = coeffs[0]\n",
        "\n",
        "        for j in range(1, len(coeffs)):\n",
        "            t += coeffs[j] * pow(x[i],j)\n",
        "\n",
        "        t += noise(theta, sigma)\n",
        "        \n",
        "        res[i] = [x[i], t]       \n",
        "    \n",
        "    return res\n",
        "\n",
        "    pass\n"
      ]
    },
    {
      "cell_type": "markdown",
      "metadata": {
        "id": "T2PvTmKnWmEb"
      },
      "source": [
        "#### Manual Test 1c."
      ]
    },
    {
      "cell_type": "code",
      "execution_count": 19,
      "metadata": {
        "id": "CzMqYQ9WWtIg"
      },
      "outputs": [
        {
          "data": {
            "image/png": "[encoded data removed]",
            "text/plain": [
              "<Figure size 640x480 with 1 Axes>"
            ]
          },
          "metadata": {},
          "output_type": "display_data"
        },
        {
          "data": {
            "image/png": "[encoded data removed]",
            "text/plain": [
              "<Figure size 640x480 with 1 Axes>"
            ]
          },
          "metadata": {},
          "output_type": "display_data"
        }
      ],
      "source": [
        "# Test against a known curve: x^2\n",
        "data = generate_poly_noisy(100, -10, 10, coeffs=[0,0,1], theta=0, sigma=5)\n",
        "plot_curve(data)\n",
        "\n",
        "# Test given curve (from previous section)\n",
        "data = generate_poly_noisy(num_pts, x_min, x_max, coefficients)\n",
        "plot_curve(data)"
      ]
    },
    {
      "cell_type": "markdown",
      "metadata": {
        "id": "SS1whac4HEeY"
      },
      "source": [
        "## **2. Gradient Descent** ( 8 pts)\n",
        "In this question we will learn first hand how gradient descent works, in the context of a synthetic dataset and a simple model:\n",
        "\n",
        "You will write functions that implement gradient descent to fit a linear regression model to data. To test your model and your optimizer, you will use data generated by your function from Question 1.\n",
        "\n",
        "Note that to keep the assignment short, you are not required to use a validation or test set. Normally this would be an essential part of the process. However, this exercise focuses on the inner workings of gradient descent applied to the quadratic cost function as (was / will be) learned in class.\n",
        "\n",
        "Your model will have the form\n",
        "\n",
        "$y = w_0 + w_1 x$,\n",
        "\n",
        "where $w_0$ and $w_1$ are the parameters of your model, $x$ is the input, and $y$ is your model's prediction.\n",
        "\n",
        "\n",
        "> Note: It's important that the\n",
        "code you write is well documented and that no other external package is used (pandas, numpy\n",
        "are ok)."
      ]
    },
    {
      "cell_type": "markdown",
      "metadata": {
        "id": "mX7nekxTCSAi"
      },
      "source": [
        "### a) Linear Regression\n",
        "\n",
        "Given the values of $x$, we want to fit a linear regression model to predict the $y$ values. We will implement a vectorized version of the gradient descent algorithm. Input ($\\mathbf{X}$) and target ($t$) are provided as arguments. $\\mathbf{X}$ is modified ($\\mathbf{X}_b$) to account for the bias. The coefficients ($\\theta$) have been initialized for you. Use Mean Squared Error as the loss function. The shape of the variables $\\mathbf{X}$, $t$, and **b** have been given, use this as a guide to output the appropriate shape.\n",
        "\n",
        "Fill in the gradient descent iteration loop and return the updated `cost_list` and parameters. Please be sure your code is well commented!\n",
        "\n",
        "> Hint: Some tips for choosing values for the learning rate `lr` and the number of steps to run for `iterations`: this depends greatly on the complexity of your dataset and the sophistication of your model. In this instance the learning rate can be small, on the order of ~0.001. As for the number of iterations, try running the algorithm for 1000 steps. If it seems the model has stopped learning after fewer, say, 500, reduce the number of iterations and run it again!"
      ]
    },
    {
      "cell_type": "code",
      "execution_count": 26,
      "metadata": {
        "id": "DZmN1GFP60RO"
      },
      "outputs": [],
      "source": [
        "# GRADED FUNCTION\n",
        "def calculate_gradients(X, t, y):\n",
        "    N = X.shape[0]\n",
        "    gradients = (1 / N) * X.T.dot(y - t)\n",
        "    return gradients\n",
        "\n",
        "# GRADED FUNCTION\n",
        "def prediction_cost(t, y):\n",
        "    N = t.shape[0]\n",
        "    cost = (1/2*N) * np.sum(pow(y-t,2))\n",
        "    return cost\n",
        "\n",
        "# GRADED FUNCTION\n",
        "def LR(X, t, lr, iterations):\n",
        "    # Ensure X is a 2D array. If X is 1D (e.g., shape (N,)), reshape it to (N, 1)\n",
        "    if X.ndim == 1:\n",
        "        X = X.reshape(-1, 1)\n",
        "\n",
        "    # Adding 1 column in X for bias\n",
        "    b = np.ones((len(X), 1))             # shape : (N, 1)\n",
        "    X_b = np.append(X, b, axis=1)        # shape : (N, features + 1)\n",
        "    theta = np.zeros((X_b.shape[1], 1))  # shape : (features + 1, 1)\n",
        "    t = t.reshape(-1, 1)                 # shape : (N, 1)\n",
        "    cost_list = []\n",
        "\n",
        "    for _ in range(iterations):\n",
        "        # calculate current predictions\n",
        "        y = X_b.dot(theta)\n",
        "\n",
        "        # get the cost of the prediction\n",
        "        cost = prediction_cost(y, t)\n",
        "\n",
        "        # calculate the partial derivatives\n",
        "        gradients = calculate_gradients(X_b, t, y)\n",
        "\n",
        "        # update the weights\n",
        "        theta = theta - (lr * gradients)\n",
        "\n",
        "        # append the value to the cost list\n",
        "        cost_list.append(cost)\n",
        "\n",
        "    return cost_list, y, theta"
      ]
    },
    {
      "cell_type": "markdown",
      "metadata": {
        "id": "ot6h-M_H6c7z"
      },
      "source": [
        "We've included a function below to help you visualize your model's predictions. Pass in your dataset with input $\\mathbf{X}$ and target $t$, and your model's predictions $y$ and cost list `cost_list` as returned from `LR()` to see them graphed."
      ]
    },
    {
      "cell_type": "code",
      "execution_count": 32,
      "metadata": {
        "id": "Q4HVbs9REl-w"
      },
      "outputs": [],
      "source": [
        "def graph_lr(X, t, y, cost_list):\n",
        "    plt.figure(figsize=(10, 3))\n",
        "    plt.subplot(1, 2, 1)\n",
        "    plt.title('Model Predictions vs Actual Targets')\n",
        "    plt.scatter(X, t, c='g', s=10, label=\"targets\")\n",
        "    plt.scatter(X, y, c='b', s=10, label=\"predictions\")\n",
        "    plt.legend()\n",
        "    plt.subplot(1, 2, 2)\n",
        "    plt.title('Model Cost')\n",
        "    plt.plot(range(len(cost_list)), cost_list, c='b')\n",
        "    plt.show()"
      ]
    },
    {
      "cell_type": "markdown",
      "metadata": {
        "id": "o3ni6pYWa1u2"
      },
      "source": [
        "Play around with different curves, noise leves, iterations, learning rate, etc. See how each one affects the way the model learns.\n",
        "\n",
        "Show a graph of your LR function working using the `graph_lr` function.\n",
        "Then report your findings on:\n",
        "\n",
        "- iterations vs cost\n",
        "- learning rate vs cost\n",
        "\n",
        "use graphs to show your results.\n",
        "\n",
        "I've provided you with some starter code but feel free to change everything in the cell below. The two key things we want to see are: how does your model do against a straight line and the results of your experiments with learning rate and number of iterations.\n"
      ]
    },
    {
      "cell_type": "code",
      "execution_count": 72,
      "metadata": {
        "id": "aLihtMIh8VN0"
      },
      "outputs": [
        {
          "data": {
            "image/png": "[encoded data removed]",
            "text/plain": [
              "<Figure size 1000x300 with 2 Axes>"
            ]
          },
          "metadata": {},
          "output_type": "display_data"
        }
      ],
      "source": [
        "# GRADED SECTION\n",
        "\n",
        "data = generate_poly_noisy(n=100, xmin=0, xmax=10,coeffs=[2, 3], theta=0, sigma=1)\n",
        "\n",
        "X = data[:, 0]\n",
        "X = X.reshape(-1, 1)\n",
        "t = data[:, 1]\n",
        "lr = 0.01\n",
        "iterations = 10\n",
        "\n",
        "cost_list, y, theta = LR(X, t, lr, iterations)\n",
        "\n",
        "graph_lr(X, t, y, cost_list)\n",
        "\n",
        "# your code here\n",
        "# feel free to modify the above code too"
      ]
    },
    {
      "cell_type": "markdown",
      "metadata": {
        "id": "5o05EaaFwjCW"
      },
      "source": [
        "### b) Closed Form Solution\n",
        "Compare this model with a solution computed in closed form. Input ($\\mathbf{X}$) and target ($t$) are provided as arguments. $\\mathbf{X}$ is modified ($\\mathbf{X}_b$) to account for the bias. The function should return the optimum parameter $\\theta$.\n"
      ]
    },
    {
      "cell_type": "code",
      "execution_count": 42,
      "metadata": {
        "id": "cWwRVDpF9nKa"
      },
      "outputs": [],
      "source": [
        "from numpy.linalg import inv\n",
        "\n",
        "def linear_direct(X, t):\n",
        "  theta = np.dot(np.linalg.inv(np.dot(X.T, X)), np.dot(X.T, t))\n",
        "\n",
        "  return theta"
      ]
    },
    {
      "cell_type": "code",
      "execution_count": 43,
      "metadata": {
        "id": "9AbRIuiNlkNa"
      },
      "outputs": [
        {
          "data": {
            "text/plain": [
              "array([3])"
            ]
          },
          "execution_count": 43,
          "metadata": {},
          "output_type": "execute_result"
        }
      ],
      "source": [
        "# Parameters found by direct method (closed form)\n",
        "linear_direct(X, t).astype(int)"
      ]
    },
    {
      "cell_type": "code",
      "execution_count": 44,
      "metadata": {
        "id": "J5pMaemIlrUW"
      },
      "outputs": [
        {
          "data": {
            "text/plain": [
              "array([[3],\n",
              "       [0]])"
            ]
          },
          "execution_count": 44,
          "metadata": {},
          "output_type": "execute_result"
        }
      ],
      "source": [
        "# Parameters found by gradient descent\n",
        "theta.astype(int)"
      ]
    },
    {
      "cell_type": "code",
      "execution_count": null,
      "metadata": {},
      "outputs": [],
      "source": []
    },
    {
      "cell_type": "markdown",
      "metadata": {
        "id": "zGP2Da_J8moT"
      },
      "source": [
        "### c) Discussion\n",
        "\n",
        "Discuss how the choice of learning rate and number of iterations in part a) affects the fitting of the model.\n"
      ]
    },
    {
      "cell_type": "markdown",
      "metadata": {
        "id": "HrrrCh8VchEH"
      },
      "source": [
        "#### Answer c\n",
        "\n",
        "### Iterations\n",
        "\n",
        "Trying out different iteration numbers, (1, 10, 100, 1000, 10000). It seems like increasing the number of iterations leads to a more linear (almost L shape) on the model cost graph.\n",
        "\n",
        "### Learning Rate\n",
        "\n",
        "Ideally (an appropriate learning rate) should plot a graph where the cost consistently decreases. Trying out different learning rates, (0.0001, 0.001, 0.01, 0.1). \n",
        "\n",
        "- 0.1 -> Cost increases, incorrect behaviour \n",
        "- 0.01 -> Best learning rate, cost consistently decreases smoothly \n",
        "- 0.001 -> Decent learning rate, functionality works however its very slow.\n",
        "\n",
        "\n"
      ]
    },
    {
      "cell_type": "markdown",
      "metadata": {
        "id": "gNTZ6HNa4g_J"
      },
      "source": [
        "### d) Stochastic Gradient Descent\n",
        "\n",
        "Write a version of gradient descent that does stochastic gradient descent with mini-batches as described in class/tutorial. The function will take the same parameters as before, but also an additional parameter `m` that specifies the mini-batch size.\n",
        "\n",
        "Provide error plots and experiment with different values of mini-batch size `m` and step-size (learning rate `lr`). Show how you can call it so that it works reasonably well, and discuss your observations briefly. Are you able to call it in a way so that it does not work?"
      ]
    },
    {
      "cell_type": "code",
      "execution_count": null,
      "metadata": {
        "id": "Tl4qt_NN4hPr"
      },
      "outputs": [],
      "source": [
        "# GRADED FUNCTION\n",
        "def stochastic_gradient_descent(X, t, lr, iterations, m):\n",
        "  b = np.ones((len(X), 1))             # shape : (N, 1)\n",
        "  X_b = np.append(X, b, axis=1)        # shape : (N, features + 1)\n",
        "  t = t.reshape(-1, 1)                 # shape : (N, 1)\n",
        "  theta = np.zeros((X_b.shape[1], 1))  # shape : (features + 1 ,1)\n",
        "  cost_list = []\n",
        "\n",
        "\n",
        "  for _ in range(iterations):\n",
        "    # your code here (~ 5-6 lines)\n",
        "\n",
        "    cost_list.append(cost)\n",
        "\n",
        "  return cost_list, y, theta\n"
      ]
    },
    {
      "cell_type": "code",
      "execution_count": null,
      "metadata": {
        "id": "EXL8y5jG81hP"
      },
      "outputs": [],
      "source": [
        "# section for graphs and experiments\n",
        "\n",
        "# try to have cells be self-contained - use local variables and regenerate data"
      ]
    },
    {
      "cell_type": "markdown",
      "metadata": {
        "id": "bKkv3fW-25XA"
      },
      "source": [
        "#### Observations (answers part d)\n",
        "\n",
        "Type your answers here."
      ]
    },
    {
      "cell_type": "markdown",
      "metadata": {
        "id": "dVYSqX7EBJTm"
      },
      "source": [
        "## **3. Polynomial Features** ( 8 pts)\n",
        "\n",
        "What happens if you try to fit a linear regression model to cubic data? As you may have observed in the previous question, your model is not powerful enough--all it can really fit well are straight lines! But no need to worry, now you will extend your model by providing it will non-linear features."
      ]
    },
    {
      "cell_type": "markdown",
      "metadata": {
        "id": "3I2zETmTBysm"
      },
      "source": [
        "### a) Compute the Features\n",
        "\n",
        "First let's compute the values of these features. Let's assume we know that the relevant features are powers of $x$. For a given $x$, and a given $D$, write a function that takes in $x$ and $D$ and outputs a vector\n",
        "$[x^0, x^1, x^2, \\dots, x^D]$\n",
        "consisting of the powers of $x$, from $0$ to $D$. So for example, `compute_features(x = 5, D = 3)` will return `[1, 5, 25, 125]`.\n",
        "\n",
        "> Note: You can use `np.vander` here if you'd like. Make sure you read the documentation for this function before using it - it doesn't give you exactly what you'd expect.\n"
      ]
    },
    {
      "cell_type": "code",
      "execution_count": null,
      "metadata": {
        "id": "ynQLEowQCjy6"
      },
      "outputs": [],
      "source": [
        "# GRADED FUNCTION\n",
        "def compute_features(x, D):\n",
        "    # your code here\n",
        "    pass\n",
        "\n",
        "# quick check to ensure function works as expected\n",
        "compute_features(5, 3), compute_features(2, 11)"
      ]
    },
    {
      "cell_type": "markdown",
      "metadata": {
        "id": "f8cm8SCdCpiX"
      },
      "source": [
        "### b) Define the Model\n",
        "\n",
        "Your new model will have the following form: $y = w_0 + w_1 x + \\dots w_D x^D$.\n",
        "\n",
        "This section is just a little practice before writing the actual polynomial gradient descent so that you understand that you're doing.\n"
      ]
    },
    {
      "cell_type": "code",
      "execution_count": null,
      "metadata": {
        "id": "eX84LRcjDRyD"
      },
      "outputs": [],
      "source": [
        "# GRADED SECTION\n",
        "\n",
        "data = generate_poly_noisy(n=3, xmin=0, xmax=10, coeffs=[0, 10], theta=0, sigma=1)\n",
        "\n",
        "X = data[:, 0]\n",
        "t = data[:, 1]\n",
        "N = X.shape[0]\n",
        "\n",
        "dims = 3\n",
        "lr = 0.01\n",
        "\n",
        "# use the function you just wrote\n",
        "X_d = ???\n",
        "\n",
        "# initialize the weights to 0\n",
        "theta = ???\n",
        "\n",
        "# compute the predictions\n",
        "y = ???\n",
        "\n",
        "# compute the gradients for a single step\n",
        "gradients = ???\n",
        "\n",
        "# update your weights\n",
        "updated_theta = ???\n",
        "\n",
        "# calculate a new prediction\n",
        "new_y = ???\n",
        "\n",
        "print(f\"{X=}\\n\")\n",
        "print(f\"{X_d=}\\n\")\n",
        "print(f\"{theta=}\\n\")\n",
        "print(f\"{gradients=}\\n\")\n",
        "print(f\"{updated_theta=}\\n\")\n",
        "print(f\"{new_y=}\\n\")"
      ]
    },
    {
      "cell_type": "markdown",
      "metadata": {
        "id": "1OQNxiVuDXtN"
      },
      "source": [
        "### c) Implement Gradient Descent\n",
        "\n",
        "Implement gradient descent and plot your predictions"
      ]
    },
    {
      "cell_type": "code",
      "execution_count": null,
      "metadata": {
        "id": "QcKG1dNEw5RO"
      },
      "outputs": [],
      "source": [
        "# GRADED FUNCTION\n",
        "def poly_gradient_descent(X, t, lr, iterations, dims):\n",
        "  X_d = np.vander(X, dims, increasing=True)\n",
        "  t = t.reshape(-1, 1)\n",
        "  theta = np.zeros((X_d.shape[1], 1))\n",
        "  cost_list = []\n",
        "\n",
        "  for i in range(iterations):\n",
        "\n",
        "    # your code here (~ 4-5 lines)\n",
        "\n",
        "    cost_list.append(cost)\n",
        "\n",
        "\n",
        "  return cost_list, y, theta"
      ]
    },
    {
      "cell_type": "markdown",
      "metadata": {
        "id": "CZykqolhf0rC"
      },
      "source": [
        "#### Automated Tests 3c\n",
        "\n",
        "These should test your algorithm against some fixed curves so that you can see how well your algorithm does. We **HIGHLY** recommend playing around with your function yourself so that you can see how it behaves. These tests are just a **starting point**."
      ]
    },
    {
      "cell_type": "code",
      "execution_count": null,
      "metadata": {
        "id": "dCgY6Swn89yl"
      },
      "outputs": [],
      "source": [
        "def test_against_line():\n",
        "  '''\n",
        "  This function tests the created poly_gradient_descent\n",
        "  against a simple line. We calculate up to 3 dimensions 1, x, x^2\n",
        "  of weights.\n",
        "  '''\n",
        "  data = generate_poly_noisy(n=100, xmin=0, xmax=1,\n",
        "                            coeffs=[0, 10], theta=0, sigma=0.1)\n",
        "  X = data[:, 0]\n",
        "  t = data[:, 1]\n",
        "  lr = 0.1\n",
        "  dims = 6\n",
        "  iterations = 2000\n",
        "  cost_list, y, theta = poly_gradient_descent(X, t, lr, iterations, dims)\n",
        "\n",
        "  graph_lr(X, t, y, cost_list)\n",
        "\n",
        "def test_against_quad():\n",
        "  '''\n",
        "  This function tests the created poly_gradient_descent\n",
        "  against a quadratic polynomial. We calcualte up to 3 dimensions 1, x, x^2\n",
        "  of weights.\n",
        "  '''\n",
        "  data = generate_poly_noisy(n=100, xmin=-1, xmax=1,\n",
        "                            coeffs=[2, 3, 10], theta=0, sigma=0.1)\n",
        "  X = data[:, 0]\n",
        "  t = data[:, 1]\n",
        "  lr = 0.01\n",
        "  dims = 3\n",
        "  iterations = 2000\n",
        "  cost_list, y, theta = poly_gradient_descent(X, t, lr, iterations, dims)\n",
        "\n",
        "  graph_lr(X, t, y, cost_list)\n",
        "\n",
        "def test_against_deg4():\n",
        "  '''\n",
        "  This function tests the created poly_gradient_descent\n",
        "  against a quadratic polynomial. We calcualte up to 5 dimensions\n",
        "  of weights.\n",
        "  '''\n",
        "  data = generate_poly_noisy(n=100, xmin=-1, xmax=1,\n",
        "                            coeffs=[0, 0.1, 0.1, 0.1, 0.1], theta=0, sigma=0.01)\n",
        "  X = data[:, 0]\n",
        "  t = data[:, 1]\n",
        "  lr = 0.01\n",
        "  dims = 5\n",
        "  iterations = 2000\n",
        "  cost_list, y, theta = poly_gradient_descent(X, t, lr, iterations, dims)\n",
        "\n",
        "  graph_lr(X, t, y, cost_list)\n",
        "\n",
        "def test_against_poly():\n",
        "  '''\n",
        "  This function tests the created poly_gradient_descent\n",
        "  against the given polynomial from a previous question.\n",
        "  '''\n",
        "  data = generate_poly_noisy(100, -10, 10, [5/16, -5/8, 3/8, 1/4], 0, 0.1)\n",
        "  X = data[:, 0]\n",
        "  t = data[:, 1]\n",
        "  lr = 0.0000001\n",
        "  dims = 5\n",
        "  iterations = 1000\n",
        "  cost_list, y, theta = poly_gradient_descent(X, t, lr, iterations, dims)\n",
        "\n",
        "  graph_lr(X, t, y, cost_list)\n",
        "\n",
        "test_against_line()\n",
        "test_against_quad()\n",
        "test_against_deg4()\n",
        "test_against_poly()\n"
      ]
    },
    {
      "cell_type": "markdown",
      "metadata": {
        "id": "XB9l2ag39Ixw"
      },
      "source": [
        "### d) Regularization & SGD (**)\n",
        "\n",
        "Here you need to do two things:\n",
        "1. Add a regularization term  to the loss function, $\\text{Loss_reg} = sum (w_i)^2$ the sum of the squares of the weights. That is, the model will be penalized for large weights.\n",
        "2. Compute the derivative of the loss with respect to this term, and add it to the gradient computation. This should make the gradients cause the weights to gradually decrease, unless they are actively useful for the model.\n",
        "\n",
        "Use stochastic gradient descent. This means that instead of computing the gradient on the entire dataset, you will now just work with a few examples at a time. Your gradient descent function can now also take a `batch_size`, so that it randomly selects that size of subset from the full example set.\n"
      ]
    },
    {
      "cell_type": "markdown",
      "metadata": {
        "id": "RgD77b7JImGz"
      },
      "source": [
        "#### What is the derivative of the regularization term?\n"
      ]
    },
    {
      "cell_type": "markdown",
      "metadata": {
        "id": "TDlotEHNAAIK"
      },
      "source": [
        "Compute the derivative of the regularization term here."
      ]
    },
    {
      "cell_type": "markdown",
      "metadata": {
        "id": "gQgml4CvALL3"
      },
      "source": [
        "### Coding Answer"
      ]
    },
    {
      "cell_type": "code",
      "execution_count": null,
      "metadata": {
        "id": "UN2hZvAxLHBk"
      },
      "outputs": [],
      "source": [
        "# GRADED FUNCTION\n",
        "def stochastic_gradient_descent_with_regularization(X, t, lr, iterations, rt, dims, m):\n",
        "    # your code here\n",
        "\n",
        "    return cost_list, y, theta"
      ]
    },
    {
      "cell_type": "markdown",
      "metadata": {
        "id": "YbDkKDRWiQld"
      },
      "source": [
        "#### Manual Testing\n",
        "\n",
        "Plot a few graphs and test your function on different lines and at different noise levels. See how the regularization is affecting your model as it goes through the iterations. Compare your model with regulariation against the one without. Remember that you also have `stochastic_gradient_descent` from your previous answers."
      ]
    },
    {
      "cell_type": "code",
      "execution_count": null,
      "metadata": {
        "id": "ZIn3TIV0AR_F"
      },
      "outputs": [],
      "source": [
        "# your code here"
      ]
    },
    {
      "cell_type": "markdown",
      "metadata": {
        "id": "KmuVqLLCpfbJ"
      },
      "source": [
        "## **4. Validation and Testing** ( 8 pts)\n",
        "\n",
        "(a) Revise your answers for Questions 2 and 3 and add code where needed so that your graphs also show results on a **validation set**.\n",
        "\n",
        "(b) All your linear regression functions returns the $\\theta$ (`theta`) weight values after it learns. Write a function that uses this value to get the predictions for a validation set.\n",
        "\n",
        "\n",
        "(c) Plot your model working on a linear curve and a non-linear curve for both training and validation sets. You should have a total of at least 4 graphs, each of them should also have the cost as a sub-graph (you can reuse the graph functions from above).\n",
        "\n",
        "(d) Remember that you should still be training your model on the train set but you can set hyperparameters on the validation set. (Do not train on the validation set!) For example, the validation set can help you decide how strong to make the regularization term, when to stop training, and how many parameters to have in your model. Choose a couple of examples and briefly and clearly explain how you set hyperparameters using your validation set.\n",
        "\n",
        "\n"
      ]
    },
    {
      "cell_type": "code",
      "execution_count": null,
      "metadata": {
        "id": "lCdEpWSfLIKw"
      },
      "outputs": [],
      "source": [
        "# your code here"
      ]
    },
    {
      "cell_type": "markdown",
      "metadata": {
        "id": "li13oDq-3jXe"
      },
      "source": [
        "## **5. Debugging** ( 2 pts)\n",
        "\n",
        "( \\* \\* \\* ) What happens to the model predictions when you regularize very strongly -- does it do what you would expect? Can you test this in a few ways? Can you think of a few different datasets that it should be able to fit perfectly? What about a few datasets that it should not be able to fit well? Does it do as expected in each case? This is a hard question because you might need to think very carefully about what to do to test your model thoroughly and how to interpret the results.\n",
        "\n",
        "You can create cells under this question to argue your answer."
      ]
    }
  ],
  "metadata": {
    "colab": {
      "provenance": [],
      "toc_visible": true
    },
    "kernelspec": {
      "display_name": "Python 3",
      "language": "python",
      "name": "python3"
    },
    "language_info": {
      "codemirror_mode": {
        "name": "ipython",
        "version": 3
      },
      "file_extension": ".py",
      "mimetype": "text/x-python",
      "name": "python",
      "nbconvert_exporter": "python",
      "pygments_lexer": "ipython3",
      "version": "3.12.4"
    }
  },
  "nbformat": 4,
  "nbformat_minor": 0
}
